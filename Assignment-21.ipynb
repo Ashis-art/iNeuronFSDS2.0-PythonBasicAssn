{
 "cells": [
  {
   "cell_type": "code",
   "execution_count": 1,
   "id": "6a8827dd",
   "metadata": {},
   "outputs": [
    {
     "name": "stdout",
     "output_type": "stream",
     "text": [
      "Current date & time :  2022-11-05 12:34:25.346697\n"
     ]
    }
   ],
   "source": [
    "#Q1. Add the current date to the text file today.txt as a string.\n",
    "\n",
    "from datetime import datetime\n",
    "  \n",
    "# get current date and time\n",
    "current_datetime = datetime.now()\n",
    "print(\"Current date & time : \", current_datetime)\n",
    "  \n",
    "# convert datetime obj to string\n",
    "str_current_datetime = str(current_datetime)\n",
    "\n",
    "file = open('today.txt', 'w')\n",
    "file.write(str_current_datetime)\n",
    "file.close()"
   ]
  },
  {
   "cell_type": "code",
   "execution_count": 2,
   "id": "89a83722",
   "metadata": {},
   "outputs": [
    {
     "name": "stdout",
     "output_type": "stream",
     "text": [
      "2022-11-05 12:34:25.346697\n"
     ]
    }
   ],
   "source": [
    "#Q2. Read the text file today.txt into the string today_string\n",
    "file = open('today.txt','r')\n",
    "today_string = file.read()\n",
    "file.close()\n",
    "\n",
    "print(today_string)"
   ]
  },
  {
   "cell_type": "code",
   "execution_count": 7,
   "id": "1f8908c3",
   "metadata": {},
   "outputs": [
    {
     "name": "stdout",
     "output_type": "stream",
     "text": [
      "2022-11-05\n"
     ]
    }
   ],
   "source": [
    "#Q3. Parse the date from today_string.\n",
    "today_date,today_time = today_string.split(' ')\n",
    "print(today_date)"
   ]
  },
  {
   "cell_type": "code",
   "execution_count": null,
   "id": "6ce683cd",
   "metadata": {},
   "outputs": [],
   "source": [
    "#Q4. List the files in your current directory\n",
    "import os\n",
    "for subdir, dirs, files in os.walk('./'):\n",
    "    for file in files:\n",
    "      print(file)"
   ]
  },
  {
   "cell_type": "code",
   "execution_count": null,
   "id": "b178fede",
   "metadata": {},
   "outputs": [],
   "source": [
    "#Q5. Create a list of all of the files in your parent directory (minimum five files should be available).\n",
    "from pathlib import Path\n",
    "d = Path(\"./\").resolve().parents[1]\n",
    "print(d)\n",
    "\n",
    "for subdir, dirs, files in os.walk(d):\n",
    "    for file in files:\n",
    "      print(file)"
   ]
  },
  {
   "cell_type": "code",
   "execution_count": 18,
   "id": "4bcf22ac",
   "metadata": {},
   "outputs": [],
   "source": [
    "#Q6. Use multiprocessing to create three separate processes. Make each one wait a random number of\n",
    "#seconds between one and five, print the current time, and then exit.\n",
    "\n",
    "import multiprocessing\n",
    "import time \n",
    "import random\n",
    "import datetime\n",
    "\n",
    "def p1():\n",
    "    time.sleep(random.randint(1,5))\n",
    "    print(\"after p1 current time: \",datetime.datetime.now())\n",
    "    \n",
    "def p2():\n",
    "    time.sleep(random.randint(1,5))\n",
    "    print(\"after p2 current time: \",datetime.datetime.now())\n",
    "\n",
    "def p3():\n",
    "    time.sleep(random.randint(1,5))\n",
    "    print(\"after p3 current time: \",datetime.datetime.now())\n",
    "    \n",
    "if __name__ == \"__main__\":    \n",
    "    pro1 = multiprocessing.Process(target=p1)\n",
    "    pro2 = multiprocessing.Process(target=p2)\n",
    "    pro3 = multiprocessing.Process(target=p3)\n",
    "\n",
    "    pro1.start()\n",
    "    pro2.start()\n",
    "    pro3.start()\n",
    "\n",
    "    pro1.join()\n",
    "    pro2.join()\n",
    "    pro3.join()"
   ]
  },
  {
   "cell_type": "code",
   "execution_count": 20,
   "id": "71c4c02a",
   "metadata": {},
   "outputs": [
    {
     "name": "stdout",
     "output_type": "stream",
     "text": [
      "2000-02-18 00:00:00\n"
     ]
    }
   ],
   "source": [
    "#Q7. Create a date object of your day of birth.\n",
    "from datetime import datetime\n",
    "dob = datetime.strptime('18/02/2000','%d/%m/%Y')\n",
    "print(dob)"
   ]
  },
  {
   "cell_type": "code",
   "execution_count": 25,
   "id": "70635e55",
   "metadata": {},
   "outputs": [
    {
     "data": {
      "text/plain": [
       "'Friday'"
      ]
     },
     "execution_count": 25,
     "metadata": {},
     "output_type": "execute_result"
    }
   ],
   "source": [
    "#Q8. What day of the week was your day of birth?\n",
    "from datetime import datetime\n",
    "my_dob = datetime(2000,2,18)\n",
    "my_dob.strftime(\"%A\")"
   ]
  },
  {
   "cell_type": "code",
   "execution_count": 27,
   "id": "297e8e5b",
   "metadata": {},
   "outputs": [
    {
     "name": "stdout",
     "output_type": "stream",
     "text": [
      "2027-07-06\n"
     ]
    }
   ],
   "source": [
    "#Q9. When will you be (or when were you) 10,000 days old?\n",
    "import datetime\n",
    "\n",
    "start_date = datetime.datetime(year=2000, month=2, day=18)\n",
    "\n",
    "end_date = start_date + datetime.timedelta(days=10000)\n",
    "\n",
    "print(end_date.date())"
   ]
  }
 ],
 "metadata": {
  "kernelspec": {
   "display_name": "Python 3 (ipykernel)",
   "language": "python",
   "name": "python3"
  },
  "language_info": {
   "codemirror_mode": {
    "name": "ipython",
    "version": 3
   },
   "file_extension": ".py",
   "mimetype": "text/x-python",
   "name": "python",
   "nbconvert_exporter": "python",
   "pygments_lexer": "ipython3",
   "version": "3.9.12"
  }
 },
 "nbformat": 4,
 "nbformat_minor": 5
}
