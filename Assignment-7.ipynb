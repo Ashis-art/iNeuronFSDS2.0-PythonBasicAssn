{
 "cells": [
  {
   "cell_type": "code",
   "execution_count": null,
   "id": "1de5503c",
   "metadata": {},
   "outputs": [],
   "source": [
    "#Q1. What is the name of the feature responsible for generating Regex objects?\n",
    "The re.compile() function returns Regex object"
   ]
  },
  {
   "cell_type": "code",
   "execution_count": 3,
   "id": "3cc3dfb9",
   "metadata": {},
   "outputs": [
    {
     "name": "stdout",
     "output_type": "stream",
     "text": [
      "\\n\n"
     ]
    }
   ],
   "source": [
    "#Q2. Why do raw strings often appear in Regex objects?\n",
    "# Regular expressions use the backslash character ('\\') to indicate special forms (Metacharacters) or to allow special\n",
    "# characters (speical sequences) to be used without invoking their special meaning. This collides with Python’s usage of the \n",
    "# same character for the same purpose in string literals. Hence, Raw strings are used (e.g. r\"\\n\") so that backslashes do not \n",
    "# have to be escaped.\n",
    "print(r\"\\n\")"
   ]
  },
  {
   "cell_type": "code",
   "execution_count": 1,
   "id": "8872cf1c",
   "metadata": {},
   "outputs": [
    {
     "name": "stdout",
     "output_type": "stream",
     "text": [
      "<re.Match object; span=(5, 6), match='o'>\n"
     ]
    }
   ],
   "source": [
    "#Q3. What is the return value of the search() method?\n",
    "#Returns a Match object if there is a match anywhere in the string.\n",
    "import re\n",
    "str = \"Hi, how are you?\"\n",
    "res = re.search('o',str)\n",
    "print(res)"
   ]
  },
  {
   "cell_type": "code",
   "execution_count": 10,
   "id": "21b29198",
   "metadata": {},
   "outputs": [
    {
     "name": "stdout",
     "output_type": "stream",
     "text": [
      "Hello\n"
     ]
    }
   ],
   "source": [
    "#Q4. From a Match item, how do you get the actual strings that match the pattern?\n",
    "#For Matched items group() methods returns actual strings that match the pattern\n",
    "match = re.search('hello',\"Hello, I am Ashis\",flags = re.IGNORECASE)\n",
    "print(match.group())"
   ]
  },
  {
   "cell_type": "code",
   "execution_count": null,
   "id": "5f90fd04",
   "metadata": {},
   "outputs": [],
   "source": [
    "#Q5. In the regex which created from the r'(\\d\\d\\d)-(\\d\\d\\d-\\d\\d\\d\\d)', what does group zero cover?Group 2? Group 1?\n",
    "In the Regex r'(\\d\\d\\d)-(\\d\\d\\d-\\d\\d\\d\\d)' the zero group covers (\\d\\d\\d)-(\\d\\d\\d-\\d\\d\\d\\d), the first group cover \n",
    "(\\d\\d\\d) and the second group cover (\\d\\d\\d-\\d\\d\\d\\d)"
   ]
  },
  {
   "cell_type": "code",
   "execution_count": 11,
   "id": "3d4c2661",
   "metadata": {},
   "outputs": [
    {
     "name": "stdout",
     "output_type": "stream",
     "text": [
      "(123) 456-7890\n"
     ]
    }
   ],
   "source": [
    "#Q6. In standard expression syntax, parentheses and intervals have distinct meanings. How can you tella regex that you want it to fit real parentheses and periods?\n",
    "# The \\. \\( and \\) escape characters in the raw string passed to re.compile() will match actual parenthesis characters.\n",
    "reg = re.compile(r'(\\(\\d\\d\\d\\)) (\\d\\d\\d-\\d\\d\\d\\d)')\n",
    "res = reg.search('My phone number is (123) 456-7890.')\n",
    "print(res.group())"
   ]
  },
  {
   "cell_type": "code",
   "execution_count": null,
   "id": "91f9066c",
   "metadata": {},
   "outputs": [],
   "source": [
    "#Q7. The findall() method returns a string list or a list of string tuples. What causes it to return one of the two options?\n",
    "If the regex pattern has no groups, a list of strings matched is returned. if the regex pattern has groups, a list of tuple of strings is returned.\n"
   ]
  },
  {
   "cell_type": "code",
   "execution_count": null,
   "id": "c3aff619",
   "metadata": {},
   "outputs": [],
   "source": [
    "#Q8. In standard expressions, what does the | character mean?\n",
    "In standard expressions, what does the | character means OR operator"
   ]
  },
  {
   "cell_type": "code",
   "execution_count": null,
   "id": "3afc6441",
   "metadata": {},
   "outputs": [],
   "source": [
    "#Q9. In regular expressions, what does the character stand for?"
   ]
  },
  {
   "cell_type": "code",
   "execution_count": 18,
   "id": "07157b58",
   "metadata": {},
   "outputs": [
    {
     "name": "stdout",
     "output_type": "stream",
     "text": [
      "['Hello']\n",
      "['Hello']\n"
     ]
    }
   ],
   "source": [
    "#Q10. 10.In regular expressions, what is the difference between the + and * characters?\n",
    "#In Regular Expressions, * Represents Zero ore more occurances of the preceeding group, whereas + represents one or more occurances of the preceeding group.\n",
    "\n",
    "str = \"Hello Ashis\"\n",
    "res = re.findall('He.*o',str)\n",
    "print(res)\n",
    "\n",
    "res1 = re.findall('He.+o',str)\n",
    "print(res1)"
   ]
  },
  {
   "cell_type": "code",
   "execution_count": null,
   "id": "c0facc7b",
   "metadata": {},
   "outputs": [],
   "source": [
    "#Q11. What is the difference between {4} and {4,5} in regular expression?\n",
    "{4} means its preceeding group should repeat 4 times.\n",
    "{4,5} means its preceeding group should repeat mininum 4 times and maximum 5 times inclusively."
   ]
  },
  {
   "cell_type": "code",
   "execution_count": null,
   "id": "4491700a",
   "metadata": {},
   "outputs": [],
   "source": [
    "#Q12. What do you mean by the \\d, \\w, and \\s shorthand character classes signify in regularexpressions?\n",
    "\\d - Return a match where a string contains number i.e equivalent to [0-9]\n",
    "\\w - Return a match where a string contains any words character i.e. equivalent to [a-zA-Z0-9]\n",
    "\\s - Returns a match where the string contains a white space character i.e space,tab, newline etc."
   ]
  },
  {
   "cell_type": "code",
   "execution_count": null,
   "id": "6fb21616",
   "metadata": {},
   "outputs": [],
   "source": [
    "#Q13. What do means by \\D, \\W, and \\S shorthand character classes signify in regular expressions?\n",
    "\\d - Return a match where a string does not contains number i.e equivalent to [^0-9]\n",
    "\\w - Return a match where a string does not contains any words character i.e. equivalent to [^a-zA-Z0-9]\n",
    "\\s - Returns a match where the string does not contains a white space character i.e space,tab, newline etc."
   ]
  },
  {
   "cell_type": "code",
   "execution_count": null,
   "id": "225d2446",
   "metadata": {},
   "outputs": [],
   "source": [
    "#Q14.What is the difference between .*? and .*?\n",
    "*? is a non greedy mode it returns the shortest string that meets the condition.\n",
    ".* is a greedy mode it returns the longest string that meets the condition"
   ]
  },
  {
   "cell_type": "code",
   "execution_count": null,
   "id": "f4e7a0e0",
   "metadata": {},
   "outputs": [],
   "source": [
    "#Q15. What is the syntax for matching both numbers and lowercase letters with a character class?\n",
    "[a-z0-9]"
   ]
  },
  {
   "cell_type": "code",
   "execution_count": null,
   "id": "b674c91a",
   "metadata": {},
   "outputs": [],
   "source": [
    "#Q16. What is the procedure for making a normal expression in regax case insensitive?\n",
    "We need to pass re.IGNORECASE as a flag "
   ]
  },
  {
   "cell_type": "code",
   "execution_count": null,
   "id": "d9aa0558",
   "metadata": {},
   "outputs": [],
   "source": [
    "#Q17. What does the . character normally match? What does it match if re.DOTALL is passed as 2nd argument in re.compile()?\n",
    "Dot . character matches everything in input except newline character.\n",
    "By passing re.DOTALL as a flag to re.compile(), you can make the dot character match all characters, including the newline character."
   ]
  },
  {
   "cell_type": "code",
   "execution_count": 6,
   "id": "1e08b145",
   "metadata": {},
   "outputs": [
    {
     "data": {
      "text/plain": [
       "'X drummers, X pipers, five rings, X hen'"
      ]
     },
     "execution_count": 6,
     "metadata": {},
     "output_type": "execute_result"
    }
   ],
   "source": [
    "#Q18. If numReg = re.compile('\\d+'), what will numRegex.sub('X', '11 drummers, 10 pipers, five rings, 4 hen') return?\n",
    "\n",
    "numReg = re.compile('\\d+')\n",
    "numReg.sub('X', '11 drummers, 10 pipers, five rings, 4 hen') #'X drummers, X pipers, five rings, X hen'"
   ]
  },
  {
   "cell_type": "code",
   "execution_count": null,
   "id": "3b3f1e23",
   "metadata": {},
   "outputs": [],
   "source": [
    "#Q19. What does passing re.VERBOSE as the 2nd argument to re.compile() allow to do?\n",
    "re.VERBOSE will allow to add whitespace and comments to string passed to re.compile()."
   ]
  },
  {
   "cell_type": "code",
   "execution_count": 15,
   "id": "62945be2",
   "metadata": {},
   "outputs": [
    {
     "name": "stdout",
     "output_type": "stream",
     "text": [
      "Output:  42 -> <re.Match object; span=(0, 2), match='42'>\n",
      "Output:  1,234 -> <re.Match object; span=(0, 5), match='1,234'>\n",
      "Output:  6,368,745 -> <re.Match object; span=(0, 9), match='6,368,745'>\n",
      "Output:  12,34,567 -> None\n",
      "Output:  1234 -> None\n"
     ]
    }
   ],
   "source": [
    "#Q20. How would you write a regex that match a number with comma for every three digits? It must match the given following:\n",
    "pattern = r'^\\d{1,3}(,\\d{3})*$' #regex that match the asked format\n",
    "res = re.compile(pattern)\n",
    "for i in ['42','1,234', '6,368,745','12,34,567','1234']:\n",
    "    print('Output: ',i, '->', res.search(i))"
   ]
  },
  {
   "cell_type": "code",
   "execution_count": 13,
   "id": "5e62f7ac",
   "metadata": {},
   "outputs": [
    {
     "name": "stdout",
     "output_type": "stream",
     "text": [
      "Output:  Haruto Watanabe  ->  <re.Match object; span=(0, 15), match='Haruto Watanabe'>\n",
      "Output:  Alice Watanabe  ->  <re.Match object; span=(0, 14), match='Alice Watanabe'>\n",
      "Output:  RoboCop Watanabe  ->  <re.Match object; span=(4, 16), match='Cop Watanabe'>\n",
      "Output:  haruto Watanabe  ->  None\n",
      "Output:  Mr. Watanabe  ->  None\n",
      "Output:  Watanabe  ->  None\n"
     ]
    }
   ],
   "source": [
    "#Q21. How would you write a regex that matches the full name of someone whose last name isWatanabe? You can assume that the first name that comes before it will always be one word that begins with a capital letter. The regex must match the following:\n",
    "pattern = r'[A-Z]{1}[a-z]*\\sWatanabe'\n",
    "res = re.compile(pattern)\n",
    "for i in ['Haruto Watanabe','Alice Watanabe','RoboCop Watanabe','haruto Watanabe','Mr. Watanabe','Watanabe']:\n",
    "    print('Output: ',i,' -> ',res.search(i))"
   ]
  },
  {
   "cell_type": "code",
   "execution_count": 17,
   "id": "0ea13688",
   "metadata": {},
   "outputs": [
    {
     "name": "stdout",
     "output_type": "stream",
     "text": [
      "Output:  Alice eats apples.  ->  <re.Match object; span=(0, 18), match='Alice eats apples.'>\n",
      "Output:  Bob pets cats.  ->  <re.Match object; span=(0, 14), match='Bob pets cats.'>\n",
      "Output:  Carol throws baseballs.  ->  <re.Match object; span=(0, 23), match='Carol throws baseballs.'>\n",
      "Output:  Alice throws Apples.  ->  <re.Match object; span=(0, 20), match='Alice throws Apples.'>\n",
      "Output:  BOB EATS CATS.  ->  <re.Match object; span=(0, 14), match='BOB EATS CATS.'>\n",
      "Output:  RoboCop eats apples.  ->  None\n",
      "Output:  ALICE THROWS FOOTBALLS.  ->  None\n",
      "Output:  Carol eats 7 cats.  ->  None\n"
     ]
    }
   ],
   "source": [
    "#Q22. How would you write a regex that matches a sentence where the first word is either Alice, Bob,or Carol; the second word is either eats, pets, or throws; the third word is apples, cats, or baseballs;and the sentence ends with a period? This regex should be case-insensitive. It must match the following:\n",
    "pattern = r'(Alice|Bob|Carol)\\s(eats|pets|throws)\\s(apples|cats|baseballs)\\.'\n",
    "res = re.compile(pattern,re.IGNORECASE)\n",
    "for i in ['Alice eats apples.','Bob pets cats.','Carol throws baseballs.','Alice throws Apples.','BOB EATS CATS.','RoboCop eats apples.'\n",
    ",'ALICE THROWS FOOTBALLS.','Carol eats 7 cats.']:\n",
    "    print('Output: ',i,' -> ',res.search(i))"
   ]
  }
 ],
 "metadata": {
  "kernelspec": {
   "display_name": "Python 3 (ipykernel)",
   "language": "python",
   "name": "python3"
  },
  "language_info": {
   "codemirror_mode": {
    "name": "ipython",
    "version": 3
   },
   "file_extension": ".py",
   "mimetype": "text/x-python",
   "name": "python",
   "nbconvert_exporter": "python",
   "pygments_lexer": "ipython3",
   "version": "3.9.12"
  }
 },
 "nbformat": 4,
 "nbformat_minor": 5
}
