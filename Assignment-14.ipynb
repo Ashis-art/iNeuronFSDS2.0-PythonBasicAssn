{
 "cells": [
  {
   "cell_type": "code",
   "execution_count": null,
   "id": "e52ea014",
   "metadata": {},
   "outputs": [],
   "source": [
    "#Q1. What does RGBA stand for?\n",
    "R - Red\n",
    "G - Green\n",
    "B - Blue\n",
    "A - Alpha\n",
    "The RGB color model is extended form of RGB to include “alpha” to allow specification of the opacity of a color."
   ]
  },
  {
   "cell_type": "code",
   "execution_count": null,
   "id": "fe97aa5f",
   "metadata": {},
   "outputs": [],
   "source": [
    "#Q2. From the Pillow module, how do you get the RGBA value of any images?\n",
    "ImageColor.getcolor() gives RGBA value of any image."
   ]
  },
  {
   "cell_type": "code",
   "execution_count": null,
   "id": "b74cb9d5",
   "metadata": {},
   "outputs": [],
   "source": [
    "#Q3. What is a box tuple, and how does it work?\n",
    "A box tuple is a tuple value of four integers: the left-edge x-coordinate, the top-edge y-coordinate,the width, and the height, respectively."
   ]
  },
  {
   "cell_type": "code",
   "execution_count": 1,
   "id": "a4e1d7e1",
   "metadata": {},
   "outputs": [
    {
     "name": "stdout",
     "output_type": "stream",
     "text": [
      "Width, Height: (3840, 2160)\n"
     ]
    }
   ],
   "source": [
    "#Q4. Use your image and load in notebook then, How can you find out the width and height of an Image object?\n",
    "from PIL import Image\n",
    "img = Image.open('D:/TestNew/background-ferrari.jpg')\n",
    "print(f'Width, Height: {img.size}') # Approach 1"
   ]
  },
  {
   "cell_type": "code",
   "execution_count": 4,
   "id": "e218b792",
   "metadata": {},
   "outputs": [],
   "source": [
    "#Q5. What method would you call to get Image object for a 100×100 image, excluding the lower-left quarter of it?\n",
    "img = Image.open('D:/TestNew/background-ferrari.jpg')\n",
    "new_img = img.crop((0,50,50,50))"
   ]
  },
  {
   "cell_type": "code",
   "execution_count": 2,
   "id": "9db36c8b",
   "metadata": {},
   "outputs": [],
   "source": [
    "#Q6. After making changes to an Image object, how could you save it as an image file?\n",
    "img = Image.open('D:/TestNew/background-ferrari.jpg')\n",
    "img.save('D:/TestNew/background-ferrari1.jpg')"
   ]
  },
  {
   "cell_type": "code",
   "execution_count": null,
   "id": "eb4f1baf",
   "metadata": {},
   "outputs": [],
   "source": [
    "#7. What module contains Pillow’s shape-drawing code?\n",
    "ImageDraw module contains Pillow's shape-drawing code"
   ]
  },
  {
   "cell_type": "code",
   "execution_count": null,
   "id": "ed64edd5",
   "metadata": {},
   "outputs": [],
   "source": [
    "#Q8. Image objects do not have drawing methods. What kind of object does? How do you get this kind of object?\n",
    " ImageDraw objects have shape-drawing methods such as point(), line(), or rectangle().They are returned by passing the Image object to the ImageDraw.Draw() function."
   ]
  }
 ],
 "metadata": {
  "kernelspec": {
   "display_name": "Python 3 (ipykernel)",
   "language": "python",
   "name": "python3"
  },
  "language_info": {
   "codemirror_mode": {
    "name": "ipython",
    "version": 3
   },
   "file_extension": ".py",
   "mimetype": "text/x-python",
   "name": "python",
   "nbconvert_exporter": "python",
   "pygments_lexer": "ipython3",
   "version": "3.9.12"
  }
 },
 "nbformat": 4,
 "nbformat_minor": 5
}
