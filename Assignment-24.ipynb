{
 "cells": [
  {
   "cell_type": "code",
   "execution_count": null,
   "id": "ec9599a4",
   "metadata": {},
   "outputs": [],
   "source": [
    "#Q1. What is the relationship between def statements and lambda expressions ?\n",
    "def functions are easy to interpret compared to lambda\n",
    "To return an object from the function, return should be explicitly defined in def but not in lambda\n",
    "Execution time in def is slower compared to lambda"
   ]
  },
  {
   "cell_type": "code",
   "execution_count": null,
   "id": "434afc10",
   "metadata": {},
   "outputs": [],
   "source": [
    "#Q2. What is the benefit of lambda?\n",
    "Functions can be created in a single line\n",
    "Can be used to create Nameless/Anonymous functions inside some complex functions if we are planning to use it only once.\n",
    "Fuctions created using lambda expressions can be assigned to a variable and can be used by simply calling the variable"
   ]
  },
  {
   "cell_type": "code",
   "execution_count": 19,
   "id": "7048b602",
   "metadata": {},
   "outputs": [],
   "source": [
    "#Q3. Compare and contrast map, filter, and reduce.\n",
    "map(): The map() function takes another function as a parameter along with a sequence of iterables and returns an output \n",
    "fter applying the function to each iterable present in the sequence.\n",
    "filter():A filter function in Python tests a specific user-defined condition for a function and returns an iterable for \n",
    "the elements and values that satisfy the condition or, in other words, return true.\n",
    "reduce(): The reduce() function applies a given function to the iterables and returns a single value as a result"
   ]
  },
  {
   "cell_type": "code",
   "execution_count": null,
   "id": "5f3d55f4",
   "metadata": {},
   "outputs": [],
   "source": [
    "#Q4. What are function annotations, and how are they used?\n",
    "Function annotations are arbitrary python expressions that are associated with various part of functions. These expressions \n",
    "are evaluated at compile time and have no life in python’s runtime environment. \n",
    "\n",
    "e.g.- \n",
    "def func(x:'annotating x', y: 'annotating y', z: int) -> float: print(x + y + z)"
   ]
  },
  {
   "cell_type": "code",
   "execution_count": 1,
   "id": "03f35362",
   "metadata": {},
   "outputs": [],
   "source": [
    "#Q5. What are recursive functions, and how are they used?\n",
    "#In programming terms, a recursive function can be defined as a routine that calls itself directly or indirectly.\n",
    "\n",
    "#e.g - \n",
    "def factorial(x):\n",
    "    \"\"\"This is a recursive function to find the factorial of an integer\"\"\"\n",
    "    if x == 1:\n",
    "        return 1\n",
    "    else:\n",
    "        return (x * factorial(x-1))"
   ]
  },
  {
   "cell_type": "code",
   "execution_count": null,
   "id": "755e25aa",
   "metadata": {},
   "outputs": [],
   "source": [
    "#Q6. What are some general design guidelines for coding functions?\n",
    "some general design guidelines for coding functions :-\n",
    "1. Proper Identation\n",
    "2. Use docstring to explain the functionality of the function\n",
    "3. naming convention for function names must be (pascalCase or camelCase) and stick with the same convention throughout the \n",
    "    application\n",
    "4. function name must conveys the purpose of the function\n",
    "5. avoid using or limited use of global variables\n",
    "6. Follow proper variable naming convebtiob like avoid using digits, keywords name, while choosing a variable name and name must\n",
    "    covey the purpose of the variable\n",
    "7.Local variables should be named using camelCase format (ex: localVariable) whereas Global variables names should be \n",
    "using PascalCase (ex:GlobalVariable) and constant should be represented in uppercase (ex:CONSTANT)."
   ]
  },
  {
   "cell_type": "code",
   "execution_count": 3,
   "id": "b8378a4f",
   "metadata": {},
   "outputs": [],
   "source": [
    "#Q7. Name three or more ways that functions can communicate results to a caller.\n",
    "return,print,yield"
   ]
  }
 ],
 "metadata": {
  "kernelspec": {
   "display_name": "Python 3 (ipykernel)",
   "language": "python",
   "name": "python3"
  },
  "language_info": {
   "codemirror_mode": {
    "name": "ipython",
    "version": 3
   },
   "file_extension": ".py",
   "mimetype": "text/x-python",
   "name": "python",
   "nbconvert_exporter": "python",
   "pygments_lexer": "ipython3",
   "version": "3.9.12"
  }
 },
 "nbformat": 4,
 "nbformat_minor": 5
}
