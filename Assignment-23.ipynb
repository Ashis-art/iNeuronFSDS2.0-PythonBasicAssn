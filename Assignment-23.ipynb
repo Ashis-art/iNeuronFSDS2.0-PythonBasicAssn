{
 "cells": [
  {
   "cell_type": "code",
   "execution_count": 1,
   "id": "f6af64bc",
   "metadata": {},
   "outputs": [
    {
     "name": "stdout",
     "output_type": "stream",
     "text": [
      "1 2 8\n"
     ]
    }
   ],
   "source": [
    "#Q1. What is the result of the code, and why?\n",
    "def func(a, b=6, c=8):\n",
    "    print(a, b, c)\n",
    "func(1, 2) #result will be 1 2 8, as while createing func() we already assigned value of b as 6 and c as 8 but not assigned any\n",
    "#value to a, while calling func() we are providing argument as (1,2) so a value will be updated as 1 and b as 2, as we are not \n",
    "#giving any third argument so c value remain as 8"
   ]
  },
  {
   "cell_type": "code",
   "execution_count": 2,
   "id": "22a4a3ab",
   "metadata": {},
   "outputs": [
    {
     "name": "stdout",
     "output_type": "stream",
     "text": [
      "1 2 3\n"
     ]
    }
   ],
   "source": [
    "#Q2. What is the result of this code, and why?\n",
    "def func(a, b, c=5):\n",
    "    print(a, b, c)\n",
    "func(1, c=3, b=2) #result will be 1 2 3, while creating function we asssigned c as 5 and not assigned any value to a and b, while\n",
    "#calling the function we paased argument as func(1,c=3,b=2) so value of a,b and c will become 1,2,3 respectively."
   ]
  },
  {
   "cell_type": "code",
   "execution_count": 3,
   "id": "f2a04235",
   "metadata": {},
   "outputs": [
    {
     "name": "stdout",
     "output_type": "stream",
     "text": [
      "1 (2, 3)\n"
     ]
    }
   ],
   "source": [
    "#Q3. How about this code: what is its result, and why?\n",
    "def func(a, *pargs):\n",
    "    print(a, pargs)\n",
    "func(1, 2, 3)  # result will be 1 (2,3), while calling the function a value will be 1 and as while creating function we provided\n",
    "#arbitary argument as *pargs so while calling function if we provide extra argument *pargs will handel that"
   ]
  },
  {
   "cell_type": "code",
   "execution_count": 4,
   "id": "72c66997",
   "metadata": {},
   "outputs": [
    {
     "name": "stdout",
     "output_type": "stream",
     "text": [
      "1 {'c': 3, 'b': 2}\n"
     ]
    }
   ],
   "source": [
    "#Q4. What does this code print, and why?\n",
    "def func(a, **kargs):\n",
    "    print(a, kargs)\n",
    "func(a=1, c=3, b=2)# result will be 1 {'c':3,'b:2'}, while calling function a will be 1 and we used **kargs which is helpful \n",
    "#when we call key value pared argument and argument total number of argument aare not fixed"
   ]
  },
  {
   "cell_type": "code",
   "execution_count": 5,
   "id": "bdc8e882",
   "metadata": {},
   "outputs": [
    {
     "name": "stdout",
     "output_type": "stream",
     "text": [
      "1 5 6 5\n"
     ]
    }
   ],
   "source": [
    "#Q5. What gets printed by this, and explain?\n",
    "def func(a, b, c=8, d=5): print(a, b, c, d)\n",
    "func(1, *(5, 6)) # result will be 1 5 6 5, while calling function a will be 1 which is explicityly provided, b and c will be\n",
    "# 5 and 6 which will provided from *(5, 6) and d will be 5 as we provided it while creating the function"
   ]
  },
  {
   "cell_type": "code",
   "execution_count": 10,
   "id": "eae2022d",
   "metadata": {},
   "outputs": [
    {
     "data": {
      "text/plain": [
       "(1, ['x'], {'a': 'y'})"
      ]
     },
     "execution_count": 10,
     "metadata": {},
     "output_type": "execute_result"
    }
   ],
   "source": [
    "#Q6. what is the result of this, and explain?\n",
    "def func(a, b, c): a = 2;b[0] = 'x';c['a'] = 'y'\n",
    "l=1; m=[1]; n={'a':0}\n",
    "func(l, m, n)\n",
    "\n",
    "l, m, n # result will be 1,['x'],{'a': 'y'}, while calling func(l,m,n) will take argument as(1,[1],{'a': 0}) so inside function\n",
    "# a will become 1, b will become ['x'] as we are passing list with 1 element and inside function we defined as b[0] = 'x', c will\n",
    "#be {'a': 'y'} as here we are passing dictionary with key and value as a and 0 but inside function we assigned c['a'] = 'y'"
   ]
  }
 ],
 "metadata": {
  "kernelspec": {
   "display_name": "Python 3 (ipykernel)",
   "language": "python",
   "name": "python3"
  },
  "language_info": {
   "codemirror_mode": {
    "name": "ipython",
    "version": 3
   },
   "file_extension": ".py",
   "mimetype": "text/x-python",
   "name": "python",
   "nbconvert_exporter": "python",
   "pygments_lexer": "ipython3",
   "version": "3.9.12"
  }
 },
 "nbformat": 4,
 "nbformat_minor": 5
}
