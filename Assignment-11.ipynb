{
 "cells": [
  {
   "cell_type": "code",
   "execution_count": 8,
   "id": "f017cd18",
   "metadata": {},
   "outputs": [],
   "source": [
    "#Q1. Create an assert statement that throws an AssertionError if the variable spam is a negative integer.\n",
    "def test(spam):\n",
    "    '''Raise an error if variable is a negative integer'''\n",
    "    assert spam > 0, \"spam is a negative integer\"\n",
    "    print(spam,\" is a non negative integer\")"
   ]
  },
  {
   "cell_type": "code",
   "execution_count": 9,
   "id": "c1764335",
   "metadata": {},
   "outputs": [
    {
     "ename": "AssertionError",
     "evalue": "spam is a negative integer",
     "output_type": "error",
     "traceback": [
      "\u001b[1;31m---------------------------------------------------------------------------\u001b[0m",
      "\u001b[1;31mAssertionError\u001b[0m                            Traceback (most recent call last)",
      "Input \u001b[1;32mIn [9]\u001b[0m, in \u001b[0;36m<cell line: 2>\u001b[1;34m()\u001b[0m\n\u001b[0;32m      1\u001b[0m spam \u001b[38;5;241m=\u001b[39m \u001b[38;5;241m-\u001b[39m\u001b[38;5;241m10\u001b[39m\n\u001b[1;32m----> 2\u001b[0m \u001b[43mtest\u001b[49m\u001b[43m(\u001b[49m\u001b[43mspam\u001b[49m\u001b[43m)\u001b[49m\n",
      "Input \u001b[1;32mIn [8]\u001b[0m, in \u001b[0;36mtest\u001b[1;34m(spam)\u001b[0m\n\u001b[0;32m      2\u001b[0m \u001b[38;5;28;01mdef\u001b[39;00m \u001b[38;5;21mtest\u001b[39m(spam):\n\u001b[0;32m      3\u001b[0m     \u001b[38;5;124;03m'''Raise an error if variable is a negative integer'''\u001b[39;00m\n\u001b[1;32m----> 4\u001b[0m     \u001b[38;5;28;01massert\u001b[39;00m spam \u001b[38;5;241m>\u001b[39m \u001b[38;5;241m0\u001b[39m, \u001b[38;5;124m\"\u001b[39m\u001b[38;5;124mspam is a negative integer\u001b[39m\u001b[38;5;124m\"\u001b[39m\n\u001b[0;32m      5\u001b[0m     \u001b[38;5;28mprint\u001b[39m(spam,\u001b[38;5;124m\"\u001b[39m\u001b[38;5;124m is a non negative integer\u001b[39m\u001b[38;5;124m\"\u001b[39m)\n",
      "\u001b[1;31mAssertionError\u001b[0m: spam is a negative integer"
     ]
    }
   ],
   "source": [
    "spam = -10\n",
    "test(spam)"
   ]
  },
  {
   "cell_type": "code",
   "execution_count": 10,
   "id": "18180859",
   "metadata": {},
   "outputs": [],
   "source": [
    "#Q2. Write an assert statement that triggers an AssertionError if the variables eggs and bacon contain\n",
    "#strings that are the same as each other, even if their cases are different (that is, &#39;hello&#39; and &#39;hello&#39; are\n",
    "#considered the same, and &#39;goodbye&#39; and &#39;GOODbye&#39; are also considered the same).\n",
    "\n",
    "def test(eggs,bacon):\n",
    "    '''Raise an error if both variable contains same string'''\n",
    "    assert eggs.casefold() != bacon.casefold(), \"eggs and bacon should not be same!!\"\n",
    "    print(eggs,\",\",bacon)"
   ]
  },
  {
   "cell_type": "code",
   "execution_count": 11,
   "id": "9f5d0e59",
   "metadata": {},
   "outputs": [
    {
     "ename": "AssertionError",
     "evalue": "eggs and bacon should not be same!!",
     "output_type": "error",
     "traceback": [
      "\u001b[1;31m---------------------------------------------------------------------------\u001b[0m",
      "\u001b[1;31mAssertionError\u001b[0m                            Traceback (most recent call last)",
      "Input \u001b[1;32mIn [11]\u001b[0m, in \u001b[0;36m<cell line: 1>\u001b[1;34m()\u001b[0m\n\u001b[1;32m----> 1\u001b[0m \u001b[43mtest\u001b[49m\u001b[43m(\u001b[49m\u001b[38;5;124;43m\"\u001b[39;49m\u001b[38;5;124;43mhello\u001b[39;49m\u001b[38;5;124;43m\"\u001b[39;49m\u001b[43m,\u001b[49m\u001b[38;5;124;43m\"\u001b[39;49m\u001b[38;5;124;43mhello\u001b[39;49m\u001b[38;5;124;43m\"\u001b[39;49m\u001b[43m)\u001b[49m\n",
      "Input \u001b[1;32mIn [10]\u001b[0m, in \u001b[0;36mtest\u001b[1;34m(eggs, bacon)\u001b[0m\n\u001b[0;32m      5\u001b[0m \u001b[38;5;28;01mdef\u001b[39;00m \u001b[38;5;21mtest\u001b[39m(eggs,bacon):\n\u001b[0;32m      6\u001b[0m     \u001b[38;5;124;03m'''Raise an error if both variable contains same string'''\u001b[39;00m\n\u001b[1;32m----> 7\u001b[0m     \u001b[38;5;28;01massert\u001b[39;00m eggs\u001b[38;5;241m.\u001b[39mcasefold() \u001b[38;5;241m!=\u001b[39m bacon\u001b[38;5;241m.\u001b[39mcasefold(), \u001b[38;5;124m\"\u001b[39m\u001b[38;5;124meggs and bacon should not be same!!\u001b[39m\u001b[38;5;124m\"\u001b[39m\n\u001b[0;32m      8\u001b[0m     \u001b[38;5;28mprint\u001b[39m(eggs,\u001b[38;5;124m\"\u001b[39m\u001b[38;5;124m,\u001b[39m\u001b[38;5;124m\"\u001b[39m,bacon)\n",
      "\u001b[1;31mAssertionError\u001b[0m: eggs and bacon should not be same!!"
     ]
    }
   ],
   "source": [
    "test(\"hello\",\"hello\")"
   ]
  },
  {
   "cell_type": "code",
   "execution_count": 12,
   "id": "d8bf5c0e",
   "metadata": {},
   "outputs": [
    {
     "ename": "AssertionError",
     "evalue": "eggs and bacon should not be same!!",
     "output_type": "error",
     "traceback": [
      "\u001b[1;31m---------------------------------------------------------------------------\u001b[0m",
      "\u001b[1;31mAssertionError\u001b[0m                            Traceback (most recent call last)",
      "Input \u001b[1;32mIn [12]\u001b[0m, in \u001b[0;36m<cell line: 1>\u001b[1;34m()\u001b[0m\n\u001b[1;32m----> 1\u001b[0m \u001b[43mtest\u001b[49m\u001b[43m(\u001b[49m\u001b[38;5;124;43m\"\u001b[39;49m\u001b[38;5;124;43mgoodbye\u001b[39;49m\u001b[38;5;124;43m\"\u001b[39;49m\u001b[43m,\u001b[49m\u001b[38;5;124;43m\"\u001b[39;49m\u001b[38;5;124;43mGOODbye\u001b[39;49m\u001b[38;5;124;43m\"\u001b[39;49m\u001b[43m)\u001b[49m\n",
      "Input \u001b[1;32mIn [10]\u001b[0m, in \u001b[0;36mtest\u001b[1;34m(eggs, bacon)\u001b[0m\n\u001b[0;32m      5\u001b[0m \u001b[38;5;28;01mdef\u001b[39;00m \u001b[38;5;21mtest\u001b[39m(eggs,bacon):\n\u001b[0;32m      6\u001b[0m     \u001b[38;5;124;03m'''Raise an error if both variable contains same string'''\u001b[39;00m\n\u001b[1;32m----> 7\u001b[0m     \u001b[38;5;28;01massert\u001b[39;00m eggs\u001b[38;5;241m.\u001b[39mcasefold() \u001b[38;5;241m!=\u001b[39m bacon\u001b[38;5;241m.\u001b[39mcasefold(), \u001b[38;5;124m\"\u001b[39m\u001b[38;5;124meggs and bacon should not be same!!\u001b[39m\u001b[38;5;124m\"\u001b[39m\n\u001b[0;32m      8\u001b[0m     \u001b[38;5;28mprint\u001b[39m(eggs,\u001b[38;5;124m\"\u001b[39m\u001b[38;5;124m,\u001b[39m\u001b[38;5;124m\"\u001b[39m,bacon)\n",
      "\u001b[1;31mAssertionError\u001b[0m: eggs and bacon should not be same!!"
     ]
    }
   ],
   "source": [
    "test(\"goodbye\",\"GOODbye\")"
   ]
  },
  {
   "cell_type": "code",
   "execution_count": 13,
   "id": "fd2b5752",
   "metadata": {},
   "outputs": [
    {
     "name": "stdout",
     "output_type": "stream",
     "text": [
      "hi , hello\n"
     ]
    }
   ],
   "source": [
    "test(\"hi\",\"hello\")"
   ]
  },
  {
   "cell_type": "code",
   "execution_count": 14,
   "id": "9bdfcb11",
   "metadata": {},
   "outputs": [
    {
     "ename": "AssertionError",
     "evalue": "Assertion Error",
     "output_type": "error",
     "traceback": [
      "\u001b[1;31m---------------------------------------------------------------------------\u001b[0m",
      "\u001b[1;31mAssertionError\u001b[0m                            Traceback (most recent call last)",
      "Input \u001b[1;32mIn [14]\u001b[0m, in \u001b[0;36m<cell line: 5>\u001b[1;34m()\u001b[0m\n\u001b[0;32m      3\u001b[0m     \u001b[38;5;124;03m'''It will show assertion error every time'''\u001b[39;00m\n\u001b[0;32m      4\u001b[0m     \u001b[38;5;28;01massert\u001b[39;00m \u001b[38;5;28;01mFalse\u001b[39;00m, \u001b[38;5;124m'\u001b[39m\u001b[38;5;124mAssertion Error\u001b[39m\u001b[38;5;124m'\u001b[39m\n\u001b[1;32m----> 5\u001b[0m \u001b[43massertion_error\u001b[49m\u001b[43m(\u001b[49m\u001b[43m)\u001b[49m\n",
      "Input \u001b[1;32mIn [14]\u001b[0m, in \u001b[0;36massertion_error\u001b[1;34m()\u001b[0m\n\u001b[0;32m      2\u001b[0m \u001b[38;5;28;01mdef\u001b[39;00m \u001b[38;5;21massertion_error\u001b[39m():\n\u001b[0;32m      3\u001b[0m     \u001b[38;5;124;03m'''It will show assertion error every time'''\u001b[39;00m\n\u001b[1;32m----> 4\u001b[0m     \u001b[38;5;28;01massert\u001b[39;00m \u001b[38;5;28;01mFalse\u001b[39;00m, \u001b[38;5;124m'\u001b[39m\u001b[38;5;124mAssertion Error\u001b[39m\u001b[38;5;124m'\u001b[39m\n",
      "\u001b[1;31mAssertionError\u001b[0m: Assertion Error"
     ]
    }
   ],
   "source": [
    "#Q3. Create an assert statement that throws an AssertionError every time.\n",
    "def assertion_error():\n",
    "    '''It will show assertion error every time'''\n",
    "    assert False, 'Assertion Error'\n",
    "assertion_error()"
   ]
  },
  {
   "cell_type": "code",
   "execution_count": null,
   "id": "68e5af56",
   "metadata": {},
   "outputs": [],
   "source": [
    "#Q4. What are the two lines that must be present in your software in order to call logging.debug()?\n",
    "import logging\n",
    "logging.basicConfig(filename = 'application_log.txt',level=logging.DEBUG, format=' %(asctime)s - %(levelname)s - %(message)s')"
   ]
  },
  {
   "cell_type": "code",
   "execution_count": 15,
   "id": "8a8cf1d7",
   "metadata": {},
   "outputs": [
    {
     "name": "stdout",
     "output_type": "stream",
     "text": [
      " 2022-10-30 19:05:36,839 - DEBUG - Inserting data\n",
      "\n"
     ]
    }
   ],
   "source": [
    "#Q5. What are the two lines that your program must have in order to have logging.debug() send a logging message to a file named programLog.txt?\n",
    "\n",
    "import logging\n",
    "logging.basicConfig(filename = 'programLog.txt',level=logging.DEBUG, format=' %(asctime)s - %(levelname)s - %(message)s')\n",
    "logging.debug(\"Inserting data\")\n",
    "\n",
    "file = open(\"./programLog.txt\",\"r\")\n",
    "for record in file.readlines():\n",
    "    print(record)"
   ]
  },
  {
   "cell_type": "code",
   "execution_count": null,
   "id": "2bbdd4ed",
   "metadata": {},
   "outputs": [],
   "source": [
    "#Q6. What are the five levels of logging?\n",
    "Five levels of logging are:\n",
    "Debug : These are used to give Detailed information, typically of interest only when diagnosing problems.\n",
    "Info : These are used to confirm that things are working as expected\n",
    "Warning : These are used an indication that something unexpected happened, or is indicative of some problem in the near future\n",
    "Error : This tells that due to a more serious problem, the software has not been able to perform some function\n",
    "Critical : This tells serious error, indicating that the program itself may be unable to continue running"
   ]
  },
  {
   "cell_type": "code",
   "execution_count": 17,
   "id": "d983b189",
   "metadata": {},
   "outputs": [
    {
     "name": "stdout",
     "output_type": "stream",
     "text": [
      " 2022-10-30 19:05:36,839 - DEBUG - Inserting data\n",
      "\n",
      " 2022-10-30 19:19:41,872 - DEBUG - Inserting data\n",
      "\n",
      " 2022-10-30 19:20:08,885 - DEBUG - Inserting data\n",
      "\n",
      " 2022-10-30 19:20:08,886 - INFO - Just an information\n",
      "\n",
      " 2022-10-30 19:20:08,886 - WARNING - Its a Warning\n",
      "\n",
      " 2022-10-30 19:20:08,886 - ERROR - Did you try to divide by zero\n",
      "\n",
      " 2022-10-30 19:20:08,886 - CRITICAL - Internet is down\n",
      "\n"
     ]
    }
   ],
   "source": [
    "logging.basicConfig(filename = 'programLog2.txt',level=logging.DEBUG, format=' %(asctime)s - %(levelname)s - %(message)s')\n",
    "logging.debug(\"Inserting data\")\n",
    "logging.info(\"Just an information\")\n",
    "logging.warning(\"Its a Warning\")\n",
    "logging.error(\"Did you try to divide by zero\")\n",
    "logging.critical(\"Internet is down\")\n",
    "\n",
    "file = open(\"./programLog.txt\",\"r\")\n",
    "for record in file.readlines():\n",
    "    print(record)"
   ]
  },
  {
   "cell_type": "code",
   "execution_count": null,
   "id": "9e8b35ee",
   "metadata": {},
   "outputs": [],
   "source": [
    "#Q7. What line of code would you add to your software to disable all logging messages?\n",
    "logging.disable = True"
   ]
  },
  {
   "cell_type": "code",
   "execution_count": null,
   "id": "d91d3796",
   "metadata": {},
   "outputs": [],
   "source": [
    "#Q8.Why is using logging messages better than using print() to display the same message?\n",
    "Logging has different levels of severity that allows you to display log messages according to the level you want. A print statement does not give you that flexibility\n",
    "Logging allows you to direct the log messages to separate files that can then be used for post analysis while the same is not easily available with print statement\n",
    "You can set different log levels at individual code file level as well - some files may have INFO level while some may have DEBUG level"
   ]
  },
  {
   "cell_type": "code",
   "execution_count": null,
   "id": "010b36c3",
   "metadata": {},
   "outputs": [],
   "source": [
    "#Q9. What are the differences between the Step Over, Step In, and Step Out buttons in the debugger?\n",
    "Step in - Step In button will cause the debugger to execute the next line of code and then pause again.\n",
    "Step Over - Step Over button will execute the next line of code, similar to the Step In button. However, if the next line of code is a function call, the Step Over button will “step over” the code in the function. The function’s code will be executed at full speed, and the debugger will pause as soon as the function call returns.\n",
    "Step out - Step Out button will cause the debugger to execute lines of code at full speed until it returns from the current function."
   ]
  },
  {
   "cell_type": "code",
   "execution_count": null,
   "id": "3d68ca3b",
   "metadata": {},
   "outputs": [],
   "source": [
    "#Q10.After you click Continue, when will the debugger stop ?\n",
    "This will cause the program to continue running normally, without pausing for debugging untill it terminates or reaches a breakpoint."
   ]
  },
  {
   "cell_type": "code",
   "execution_count": null,
   "id": "49883df1",
   "metadata": {},
   "outputs": [],
   "source": [
    "#Q11. What is the concept of a breakpoint?\n",
    "Breakpoint is a setting on a line of code that causes the debugger to pause when the program execution reaches the line"
   ]
  }
 ],
 "metadata": {
  "kernelspec": {
   "display_name": "Python 3 (ipykernel)",
   "language": "python",
   "name": "python3"
  },
  "language_info": {
   "codemirror_mode": {
    "name": "ipython",
    "version": 3
   },
   "file_extension": ".py",
   "mimetype": "text/x-python",
   "name": "python",
   "nbconvert_exporter": "python",
   "pygments_lexer": "ipython3",
   "version": "3.9.12"
  }
 },
 "nbformat": 4,
 "nbformat_minor": 5
}
