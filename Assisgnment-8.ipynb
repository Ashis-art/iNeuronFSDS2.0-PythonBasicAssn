{
 "cells": [
  {
   "cell_type": "code",
   "execution_count": null,
   "id": "3123b1e4",
   "metadata": {},
   "outputs": [],
   "source": [
    "#Q1. Is the Python Standard Library included with PyInputPlus?\n",
    " No, PyInputPlus is not a part of Python Standard Library, it needs to be installed explicitly using the command !pip install PyInputPlus"
   ]
  },
  {
   "cell_type": "code",
   "execution_count": 1,
   "id": "8eb2aff8",
   "metadata": {},
   "outputs": [
    {
     "name": "stdout",
     "output_type": "stream",
     "text": [
      "Collecting PyInputPlus\n",
      "  Using cached PyInputPlus-0.2.12.tar.gz (20 kB)\n",
      "  Installing build dependencies: started\n",
      "  Installing build dependencies: finished with status 'done'\n",
      "  Getting requirements to build wheel: started\n",
      "  Getting requirements to build wheel: finished with status 'done'\n",
      "    Preparing wheel metadata: started\n",
      "    Preparing wheel metadata: finished with status 'done'\n",
      "Collecting pysimplevalidate>=0.2.7\n",
      "  Using cached PySimpleValidate-0.2.12.tar.gz (22 kB)\n",
      "  Installing build dependencies: started\n",
      "  Installing build dependencies: finished with status 'done'\n",
      "  Getting requirements to build wheel: started\n",
      "  Getting requirements to build wheel: finished with status 'done'\n",
      "    Preparing wheel metadata: started\n",
      "    Preparing wheel metadata: finished with status 'done'\n",
      "Collecting stdiomask>=0.0.3\n",
      "  Using cached stdiomask-0.0.6.tar.gz (3.6 kB)\n",
      "  Installing build dependencies: started\n",
      "  Installing build dependencies: finished with status 'done'\n",
      "  Getting requirements to build wheel: started\n",
      "  Getting requirements to build wheel: finished with status 'done'\n",
      "    Preparing wheel metadata: started\n",
      "    Preparing wheel metadata: finished with status 'done'\n",
      "Building wheels for collected packages: PyInputPlus, pysimplevalidate, stdiomask\n",
      "  Building wheel for PyInputPlus (PEP 517): started\n",
      "  Building wheel for PyInputPlus (PEP 517): finished with status 'done'\n",
      "  Created wheel for PyInputPlus: filename=PyInputPlus-0.2.12-py3-none-any.whl size=11297 sha256=8a346eac3639c62566c498653ab449bc7264733e120d1579c03a0cd9278def37\n",
      "  Stored in directory: c:\\users\\pashi\\appdata\\local\\pip\\cache\\wheels\\b4\\6e\\2f\\8a852732646cabec36c3fe8fc060ec5bea1c1be711432c47f7\n",
      "  Building wheel for pysimplevalidate (PEP 517): started\n",
      "  Building wheel for pysimplevalidate (PEP 517): finished with status 'done'\n",
      "  Created wheel for pysimplevalidate: filename=PySimpleValidate-0.2.12-py3-none-any.whl size=16175 sha256=7a2b6fc7fdb52bc95a0078405265c4bfcdc41dbdf17aab36de785f86b04eae1a\n",
      "  Stored in directory: c:\\users\\pashi\\appdata\\local\\pip\\cache\\wheels\\b1\\44\\4a\\043a4f4c4512c7cdfb0c2b8408b18b0de5fd45cac57f5dfa02\n",
      "  Building wheel for stdiomask (PEP 517): started\n",
      "  Building wheel for stdiomask (PEP 517): finished with status 'done'\n",
      "  Created wheel for stdiomask: filename=stdiomask-0.0.6-py3-none-any.whl size=3306 sha256=02283c2ac04d4b1a169aa75afa89b9c612bff943b8e8ad25177d37e3ce550c6c\n",
      "  Stored in directory: c:\\users\\pashi\\appdata\\local\\pip\\cache\\wheels\\1d\\aa\\47\\f41f117d22c5de82e95d9342f44da578c80610739a2d5ebec4\n",
      "Successfully built PyInputPlus pysimplevalidate stdiomask\n",
      "Installing collected packages: stdiomask, pysimplevalidate, PyInputPlus\n",
      "Successfully installed PyInputPlus-0.2.12 pysimplevalidate-0.2.12 stdiomask-0.0.6\n"
     ]
    }
   ],
   "source": [
    "!pip install PyInputPlus"
   ]
  },
  {
   "cell_type": "code",
   "execution_count": null,
   "id": "72ffa751",
   "metadata": {},
   "outputs": [],
   "source": [
    "#Q2. Why is PyInputPlus commonly imported with import pyinputplus as pypi?\n",
    "So that we can enter a shorter name when calling the pyinputplus module's functions."
   ]
  },
  {
   "cell_type": "code",
   "execution_count": null,
   "id": "f8e46ec5",
   "metadata": {},
   "outputs": [],
   "source": [
    "#Q3. How do you distinguish between inputInt() and inputFloat()?\n",
    "inputInt() function accepts an integer value and returns an int value. It takes additional parameters ‘min’, ‘max’, ‘greaterThan’ and ‘lessThan’ for bounds\n",
    "inputFloat() function accepts a floating-point numeric value and returns a float value.  It takes additional ‘min’, ‘max’, ‘greaterThan’ and ‘lessThan’  parameters."
   ]
  },
  {
   "cell_type": "code",
   "execution_count": 3,
   "id": "2eb9f815",
   "metadata": {},
   "outputs": [
    {
     "name": "stdout",
     "output_type": "stream",
     "text": [
      "Enter a number between 0 and 99: 85\n",
      "85\n"
     ]
    }
   ],
   "source": [
    "#Q4. Using PyInputPlus, how do you ensure that the user enters a whole number between 0 and 99?\n",
    "#By using inputInt() which only takes integer values and inorder to restrict the input between 0 and 99 we need to use min & max parameters to ensure that user enters the values between the defined range only.\n",
    "import pyinputplus as pyip\n",
    "num = pyip.inputInt(prompt='Enter a number between 0 and 99: ', min=0, max=100)\n",
    "print(num)"
   ]
  },
  {
   "cell_type": "code",
   "execution_count": null,
   "id": "8b33855c",
   "metadata": {},
   "outputs": [],
   "source": [
    "#Q5. What is transferred to the keyword arguments allowRegexes and blockRegexes?\n",
    "allowRegexes and blockRegexes keyword arguments used to take list of regular expression strings to determine what the pyinputplus function will reject or accept for valid input."
   ]
  },
  {
   "cell_type": "code",
   "execution_count": null,
   "id": "091e1a72",
   "metadata": {},
   "outputs": [],
   "source": [
    "#Q6. If a blank input is entered three times, what does inputStr(limit=3) do?\n",
    "IT will throw two exceptions ValidationException and RetryLimitException.\n",
    "ValidationExceptiont is thrown because blank values are not allowed by inputStr() function by default.\n",
    "RetryLimitException is occured because we have reached the max limit we have specified by using limit parameter. "
   ]
  },
  {
   "cell_type": "code",
   "execution_count": null,
   "id": "12eb3102",
   "metadata": {},
   "outputs": [],
   "source": [
    "#Q77. If blank input is entered three times, what does inputStr(limit=3, default='hello') do?\n",
    "The function will return hello as response to the calling function, if blank input is entered three times"
   ]
  }
 ],
 "metadata": {
  "kernelspec": {
   "display_name": "Python 3 (ipykernel)",
   "language": "python",
   "name": "python3"
  },
  "language_info": {
   "codemirror_mode": {
    "name": "ipython",
    "version": 3
   },
   "file_extension": ".py",
   "mimetype": "text/x-python",
   "name": "python",
   "nbconvert_exporter": "python",
   "pygments_lexer": "ipython3",
   "version": "3.9.12"
  }
 },
 "nbformat": 4,
 "nbformat_minor": 5
}
