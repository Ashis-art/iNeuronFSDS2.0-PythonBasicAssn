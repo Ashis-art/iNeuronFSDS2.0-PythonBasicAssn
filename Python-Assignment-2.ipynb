{
 "cells": [
  {
   "cell_type": "markdown",
   "id": "0f57e3ff",
   "metadata": {},
   "source": [
    "# ASSIGNMENT - 2"
   ]
  },
  {
   "cell_type": "code",
   "execution_count": null,
   "id": "0e9080c1",
   "metadata": {},
   "outputs": [],
   "source": [
    "Q1.\n",
    "\n",
    "Two values of Boolean datatypes are True & False. We have to write first letter of both of them as uppercase and other\n",
    "letters in lower case."
   ]
  },
  {
   "cell_type": "code",
   "execution_count": 2,
   "id": "5598f6da",
   "metadata": {},
   "outputs": [
    {
     "name": "stdout",
     "output_type": "stream",
     "text": [
      "True <class 'bool'>\n",
      "False <class 'bool'>\n"
     ]
    }
   ],
   "source": [
    "t = True\n",
    "f = False\n",
    "print(t,type(t))\n",
    "print(f,type(f))"
   ]
  },
  {
   "cell_type": "code",
   "execution_count": null,
   "id": "691836bd",
   "metadata": {},
   "outputs": [],
   "source": [
    "Q2.\n",
    "\n",
    "Three different types of boolean operators are - and, or, not"
   ]
  },
  {
   "cell_type": "code",
   "execution_count": 3,
   "id": "d5a7adda",
   "metadata": {},
   "outputs": [
    {
     "name": "stdout",
     "output_type": "stream",
     "text": [
      "False\n",
      "True\n",
      "True\n"
     ]
    }
   ],
   "source": [
    "a = 10\n",
    "b = 15\n",
    "print(a>10 and b>10) # and will return True if both the cases are True\n",
    "print(a>10 or b>10) # or will True if any one of the case is True\n",
    "print(not(a>b)) # not will change the type of the result i.e for True to False or vice-versa"
   ]
  },
  {
   "cell_type": "code",
   "execution_count": null,
   "id": "91266746",
   "metadata": {},
   "outputs": [],
   "source": [
    "Q3.\n",
    "\n",
    "-Truth table of and\n",
    "\n",
    "True and True = True\n",
    "True and False = False\n",
    "False and True = False\n",
    "False and False = False\n",
    "\n",
    "-Truth table of or\n",
    "\n",
    "True or True = True\n",
    "True or False = True\n",
    "False or True = True\n",
    "False or False = False\n",
    "\n",
    "-Truth table of not\n",
    "not(True) = False\n",
    "not(False) = True"
   ]
  },
  {
   "cell_type": "code",
   "execution_count": 5,
   "id": "2f7be850",
   "metadata": {},
   "outputs": [
    {
     "name": "stdout",
     "output_type": "stream",
     "text": [
      "False\n",
      "False\n",
      "True\n",
      "False\n",
      "False\n",
      "True\n"
     ]
    }
   ],
   "source": [
    "#Q4.\n",
    "\n",
    "print((5>4) and (3==5)) #False\n",
    "print(not(5>4)) #False\n",
    "print((5>4) or (3==5)) #True\n",
    "print(not((5>4) or (3==5))) #False\n",
    "print((True and True) and (True == False)) #False\n",
    "print((not False) or (not True)) #True"
   ]
  },
  {
   "cell_type": "code",
   "execution_count": null,
   "id": "542a0386",
   "metadata": {},
   "outputs": [],
   "source": [
    "Q5.\n",
    "\n",
    "Six comparision operator are - > (greater than), < (less than), == (equal to), >= (greater than or equal to),\n",
    "<= (less than or equal to), != (not equal to)"
   ]
  },
  {
   "cell_type": "code",
   "execution_count": 6,
   "id": "a5315a9e",
   "metadata": {},
   "outputs": [
    {
     "name": "stdout",
     "output_type": "stream",
     "text": [
      "True\n",
      "True\n",
      "True\n",
      "True\n",
      "True\n",
      "True\n"
     ]
    }
   ],
   "source": [
    "print(5 > 3)\n",
    "print(3 < 5)\n",
    "print(1 == 1)\n",
    "print(4 >= 4)\n",
    "print(3 <= 6)\n",
    "print(2 != 4)"
   ]
  },
  {
   "cell_type": "code",
   "execution_count": null,
   "id": "01e4ffd2",
   "metadata": {},
   "outputs": [],
   "source": [
    "Q6.\n",
    "\n",
    "== is compariosion operator, and = is assignment operator\n",
    "\n",
    "a = 10 #Here we are assigning some values (i.e 10) to a variable\n",
    "\n",
    "if(a==b): #Here we are cmoparing two variable\n",
    "    print(\"a is equal to b\") (5>4) and (3==5)\n",
    "else:\n",
    "    print(\"a & b are different\")"
   ]
  },
  {
   "cell_type": "code",
   "execution_count": 8,
   "id": "174fda99",
   "metadata": {},
   "outputs": [
    {
     "name": "stdout",
     "output_type": "stream",
     "text": [
      "ham\n",
      "spam\n",
      "spam\n"
     ]
    }
   ],
   "source": [
    "#Q7.\n",
    "\n",
    "spam = 0\n",
    "#block 1\n",
    "if spam == 10:\n",
    "    print('egg')\n",
    "#block 2\n",
    "if spam > 5:\n",
    "    print('bacon')\n",
    "#block 3\n",
    "else:\n",
    "    print('ham')\n",
    "print('spam')\n",
    "print('spam')"
   ]
  },
  {
   "cell_type": "code",
   "execution_count": 12,
   "id": "aac4dbb1",
   "metadata": {},
   "outputs": [
    {
     "name": "stdout",
     "output_type": "stream",
     "text": [
      "Hello\n",
      "Howdy\n",
      "Greetings!\n"
     ]
    }
   ],
   "source": [
    "#Q8\n",
    "def print_spam(spam):\n",
    "    if spam == 1:\n",
    "        print(\"Hello\")\n",
    "    elif spam == 2:\n",
    "        print('Howdy')\n",
    "    else:\n",
    "        print(\"Greetings!\")\n",
    "\n",
    "print_spam(1)\n",
    "print_spam(2)\n",
    "print_spam(3)"
   ]
  },
  {
   "cell_type": "code",
   "execution_count": null,
   "id": "3e33ecdf",
   "metadata": {},
   "outputs": [],
   "source": [
    "Q9.\n",
    "\n",
    "If programme is stuck in the endless loop, then we need to press Ctrl-C key."
   ]
  },
  {
   "cell_type": "code",
   "execution_count": null,
   "id": "d5e802b7",
   "metadata": {},
   "outputs": [],
   "source": [
    "Q10.\n",
    "\n",
    "The break statement will move to execution outside of the loop,  whereas the continue skip the rest of the code inside a loop of\n",
    "the current execution and then loop continue with the next iteration."
   ]
  },
  {
   "cell_type": "code",
   "execution_count": null,
   "id": "066e9b73",
   "metadata": {},
   "outputs": [],
   "source": [
    "Q11.\n",
    "\n",
    "In a for loop range(10) will provide a range from 0 to 9 for iteration.\n",
    "In a for loop range(0,10) will produce same result as range(10), but here we are specifing that loop should start from 0.\n",
    "In a for loop range(0,10,1) will tell the loop to increase variable value as 1 after each iteration."
   ]
  },
  {
   "cell_type": "code",
   "execution_count": 15,
   "id": "8855bfc2",
   "metadata": {},
   "outputs": [
    {
     "name": "stdout",
     "output_type": "stream",
     "text": [
      "1\n",
      "2\n",
      "3\n",
      "4\n",
      "5\n",
      "6\n",
      "7\n",
      "8\n",
      "9\n",
      "10\n"
     ]
    }
   ],
   "source": [
    "#Q12\n",
    "\n",
    "for i in range(1,11):\n",
    "    print(i)"
   ]
  },
  {
   "cell_type": "code",
   "execution_count": 18,
   "id": "a0986be6",
   "metadata": {},
   "outputs": [
    {
     "name": "stdout",
     "output_type": "stream",
     "text": [
      "1\n",
      "2\n",
      "3\n",
      "4\n",
      "5\n",
      "6\n",
      "7\n",
      "8\n",
      "9\n",
      "10\n"
     ]
    }
   ],
   "source": [
    "num = 1\n",
    "while(num <= 10):\n",
    "    print(num)\n",
    "    num+=1;"
   ]
  },
  {
   "cell_type": "code",
   "execution_count": null,
   "id": "8c258b5f",
   "metadata": {},
   "outputs": [],
   "source": [
    "Q13.\n",
    "\n",
    "After importing sapm we should call bacon() as-  spam.bacon()"
   ]
  }
 ],
 "metadata": {
  "kernelspec": {
   "display_name": "Python 3 (ipykernel)",
   "language": "python",
   "name": "python3"
  },
  "language_info": {
   "codemirror_mode": {
    "name": "ipython",
    "version": 3
   },
   "file_extension": ".py",
   "mimetype": "text/x-python",
   "name": "python",
   "nbconvert_exporter": "python",
   "pygments_lexer": "ipython3",
   "version": "3.9.12"
  }
 },
 "nbformat": 4,
 "nbformat_minor": 5
}
