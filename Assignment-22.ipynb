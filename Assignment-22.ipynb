{
 "cells": [
  {
   "cell_type": "code",
   "execution_count": 1,
   "id": "bf8a0df9",
   "metadata": {},
   "outputs": [
    {
     "name": "stdout",
     "output_type": "stream",
     "text": [
      "iNeuron\n"
     ]
    }
   ],
   "source": [
    "#Q1. What is the result of the code, and explain?\n",
    "\n",
    "X = 'iNeuron'\n",
    "def func():\n",
    "    print(X)\n",
    "\n",
    "func()\n",
    "\n",
    "#Result of the code will be iNeuron, here we are declaring a global variable X and creating a function called func which is printing \n",
    "#the value of X, as there is not local variable as X inside the function so it's taking value of the global variable X \n",
    "#and then we are then calling the funciton"
   ]
  },
  {
   "cell_type": "code",
   "execution_count": 2,
   "id": "ce86bb61",
   "metadata": {},
   "outputs": [
    {
     "name": "stdout",
     "output_type": "stream",
     "text": [
      "iNeuron\n"
     ]
    }
   ],
   "source": [
    "#Q2. What is the result of the code, and explain?\n",
    "\n",
    "X = 'iNeuron'\n",
    "def func():\n",
    "    X = 'NI!'\n",
    "\n",
    "func() #It will not give any result as func function not returnnig or printing anything, but if this function return X then the result will be 'NI!' as func will take X value which is present in the local scope\n",
    "print(X) #It will give result as iNeuron, as it takes value of global variable X"
   ]
  },
  {
   "cell_type": "code",
   "execution_count": 3,
   "id": "e565fb91",
   "metadata": {},
   "outputs": [
    {
     "name": "stdout",
     "output_type": "stream",
     "text": [
      "NI\n",
      "iNeuron\n"
     ]
    }
   ],
   "source": [
    "#Q3. What does this code print, and why?\n",
    "\n",
    "X = 'iNeuron'\n",
    "def func():\n",
    " X = 'NI'\n",
    " print(X)\n",
    "\n",
    "func() # the result will be 'NI' as func will takes X's value which is present in local scope\n",
    "print(X) #It will give result as iNeuron, as it takes value of global variable X"
   ]
  },
  {
   "cell_type": "code",
   "execution_count": 5,
   "id": "dd526a53",
   "metadata": {},
   "outputs": [
    {
     "name": "stdout",
     "output_type": "stream",
     "text": [
      "NI\n"
     ]
    }
   ],
   "source": [
    "#Q4. What output does this code produce? Why?\n",
    "\n",
    "X = 'iNeuron'\n",
    "def func():\n",
    "    global X\n",
    "    X = 'NI'\n",
    "\n",
    "func() #It will not give any result as func function not returnnig or printing anything\n",
    "print(X) #here the result will be 'NI', as we are declare X which is inside func as global and also calling func() before printin X value"
   ]
  },
  {
   "cell_type": "code",
   "execution_count": 6,
   "id": "edd526e6",
   "metadata": {},
   "outputs": [
    {
     "name": "stdout",
     "output_type": "stream",
     "text": [
      "NI\n"
     ]
    },
    {
     "data": {
      "text/plain": [
       "'iNeuron'"
      ]
     },
     "execution_count": 6,
     "metadata": {},
     "output_type": "execute_result"
    }
   ],
   "source": [
    "#Q5. What about this code—what’s the output, and why?\n",
    "\n",
    "X = 'iNeuron'\n",
    "def func():\n",
    "    X = 'NI'\n",
    "    def nested():\n",
    "        print(X)\n",
    "    nested()\n",
    "\n",
    "func() #result will be NI, as we are callign func() and inside func() there is a nested function which is printing value of X\n",
    "#which is taking the X value from it's parent's scope then inside func function we are callign nested() whcih returing nested() function value to func()\n",
    "X #It will give result as iNeuron, as it takes value of global variable X"
   ]
  },
  {
   "cell_type": "code",
   "execution_count": 7,
   "id": "5e5d9881",
   "metadata": {},
   "outputs": [
    {
     "name": "stdout",
     "output_type": "stream",
     "text": [
      "Spam\n"
     ]
    }
   ],
   "source": [
    "#Q6. How about this code: what is its output in Python 3, and explain?\n",
    "\n",
    "def func():\n",
    "    X = 'NI'\n",
    "    def nested():\n",
    "        nonlocal X\n",
    "        X = 'Spam'\n",
    "    nested()\n",
    "    print(X)\n",
    "\n",
    "func() # result will be Spam, as inside nested function we are making x as nonlocal so it will update the x value which is presen\n",
    "#inside func() scope"
   ]
  }
 ],
 "metadata": {
  "kernelspec": {
   "display_name": "Python 3 (ipykernel)",
   "language": "python",
   "name": "python3"
  },
  "language_info": {
   "codemirror_mode": {
    "name": "ipython",
    "version": 3
   },
   "file_extension": ".py",
   "mimetype": "text/x-python",
   "name": "python",
   "nbconvert_exporter": "python",
   "pygments_lexer": "ipython3",
   "version": "3.9.12"
  }
 },
 "nbformat": 4,
 "nbformat_minor": 5
}
