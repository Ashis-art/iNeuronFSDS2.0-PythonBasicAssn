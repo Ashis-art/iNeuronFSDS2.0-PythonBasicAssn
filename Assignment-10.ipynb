{
 "cells": [
  {
   "cell_type": "code",
   "execution_count": null,
   "id": "7cce3006",
   "metadata": {},
   "outputs": [],
   "source": [
    "#Q1. How do you distinguish between shutil.copy() and shutil.copytree()?\n",
    "Calling shutil.copy(source, destination) will copy the file at the path source to the folder at the path destination.\n",
    "shutil.copy() will copy a single file, where as shutil.copytree() will copy an entire folder and every folder and file contained in it.\n",
    "\n",
    "import shutil, os\n",
    "os.chdir('C:\\\\')\n",
    "shutil.copy('source','destination')\n",
    "shutil.copytree('source', 'destination')"
   ]
  },
  {
   "cell_type": "code",
   "execution_count": null,
   "id": "5e21478e",
   "metadata": {},
   "outputs": [],
   "source": [
    "#Q2. What function is used to rename files??\n",
    "rename() method of os modules is used to rename files\n",
    "\n",
    "import os\n",
    "\n",
    "# Absolute path of a file\n",
    "old_name = r\"C:\\User\\files\\abc.txt\"\n",
    "new_name = r\"C:\\User\\files\\xyz.txt\"\n",
    "\n",
    "# Renaming the file\n",
    "os.rename(old_name, new_name)"
   ]
  },
  {
   "cell_type": "code",
   "execution_count": null,
   "id": "14fde426",
   "metadata": {},
   "outputs": [],
   "source": [
    "#Q3. What is the difference between the delete functions in the send2trash and shutil modules?\n",
    "The delete function in send2trash module will move a file or folder to the recycle bin, while in shutil modules functions will permanently delete files and folders."
   ]
  },
  {
   "cell_type": "code",
   "execution_count": null,
   "id": "3c44aaec",
   "metadata": {},
   "outputs": [],
   "source": [
    "#Q4.ZipFile objects have a close() method just like File objects’ close() method. What ZipFile method isequivalent to File objects’ open() method?\n",
    "The zipfile.ZipFile() function is equivalent to the open() function; the first argument is the filename, and the second argument is the mode to open the ZIP file in (read, write, or append).\n",
    "\n",
    "import zipfile\n",
    "with zipfile.ZipFile(\"sample.zip\", mode=\"r\") as archive:\n",
    "    archive.printdir()"
   ]
  },
  {
   "cell_type": "code",
   "execution_count": 2,
   "id": "5739663a",
   "metadata": {},
   "outputs": [
    {
     "name": "stdout",
     "output_type": "stream",
     "text": [
      "Looking in D:\\Test for files with extensions of .txt, .jpg\n",
      "Coping D:\\Test\\background-ferrari.jpg to D:\\TestNew\n"
     ]
    }
   ],
   "source": [
    "#Q5. Create a programme that searches a folder tree for files with a certain file extension (such as .pdf or .jpg). Copy these files from whatever location they are in to a new folder.\n",
    "\n",
    "import os,shutil\n",
    "\n",
    "def copyfolder(folder, extenstions,destFolder):\n",
    "    '''To copy files with extension provided by user from source foleder to destination folder'''\n",
    "    folder = os.path.abspath(folder) #absolute path of source folder\n",
    "    destFolder = os.path.abspath(destFolder) #abs path of destination folder\n",
    "    print('Looking in', folder, 'for files with extensions of', ', '.join(extensions))\n",
    "    for foldername, subfolders, filenames in os.walk(folder):\n",
    "        for filename in filenames:\n",
    "            name, extension = os.path.splitext(filename)\n",
    "            if extension in extensions:\n",
    "                fileAbsPath = foldername + os.path.sep + filename\n",
    "                print('Coping', fileAbsPath, 'to', destFolder)\n",
    "                shutil.copy(fileAbsPath, destFolder)\n",
    "\n",
    "extensions = ['.txt', '.jpg']\n",
    "folder = 'D:\\Test'\n",
    "destFolder = 'D:\\TestNew'\n",
    "copyfolder(folder, extensions, destFolder)"
   ]
  },
  {
   "cell_type": "code",
   "execution_count": null,
   "id": "e6930d35",
   "metadata": {},
   "outputs": [],
   "source": []
  }
 ],
 "metadata": {
  "kernelspec": {
   "display_name": "Python 3 (ipykernel)",
   "language": "python",
   "name": "python3"
  },
  "language_info": {
   "codemirror_mode": {
    "name": "ipython",
    "version": 3
   },
   "file_extension": ".py",
   "mimetype": "text/x-python",
   "name": "python",
   "nbconvert_exporter": "python",
   "pygments_lexer": "ipython3",
   "version": "3.9.12"
  }
 },
 "nbformat": 4,
 "nbformat_minor": 5
}
