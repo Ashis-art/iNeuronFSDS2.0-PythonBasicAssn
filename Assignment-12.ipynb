{
 "cells": [
  {
   "cell_type": "code",
   "execution_count": null,
   "id": "dbb3e1ef",
   "metadata": {},
   "outputs": [],
   "source": [
    "#Q1. In what modes should the PdfFileReader() and PdfFileWriter() File objects will be opened?\n",
    "PdfFileReader() file objects should be opened in rb i.e. read binary mode\n",
    "PdfFileWriter() file objects should be opened in wb i.e. write binary mode"
   ]
  },
  {
   "cell_type": "code",
   "execution_count": 1,
   "id": "b431e65e",
   "metadata": {},
   "outputs": [
    {
     "name": "stdout",
     "output_type": "stream",
     "text": [
      "Collecting PyPDF2\n",
      "  Downloading PyPDF2-2.11.1-py3-none-any.whl (220 kB)\n",
      "Requirement already satisfied: typing-extensions>=3.10.0.0 in d:\\anaconda\\lib\\site-packages (from PyPDF2) (4.1.1)\n",
      "Installing collected packages: PyPDF2\n",
      "Successfully installed PyPDF2-2.11.1\n"
     ]
    }
   ],
   "source": [
    "#Q2. From a PdfFileReader object, how do you get a Page object for page 5?\n",
    "# getpage(5)\n",
    "\n",
    "!pip install PyPDF2"
   ]
  },
  {
   "cell_type": "code",
   "execution_count": 11,
   "id": "fb25ea69",
   "metadata": {},
   "outputs": [
    {
     "name": "stdout",
     "output_type": "stream",
     "text": [
      " \n",
      " \n",
      " \n",
      " \n",
      " \n",
      " \n",
      " \n",
      " \n",
      " \n"
     ]
    }
   ],
   "source": [
    "import PyPDF2\n",
    "from PyPDF2 import PdfFileReader\n",
    "pdfFileObj = open('D:/Test/test (1).pdf', 'rb')\n",
    "pdfReader = PdfFileReader(pdfFileObj)\n",
    "pageObj = pdfReader.getPage(5)\n",
    "print(pageObj.extractText())\n",
    "pdfFileObj.close()"
   ]
  },
  {
   "cell_type": "code",
   "execution_count": 14,
   "id": "154abd5a",
   "metadata": {},
   "outputs": [
    {
     "name": "stdout",
     "output_type": "stream",
     "text": [
      "6\n"
     ]
    }
   ],
   "source": [
    "#Q3. What PdfFileReader variable stores the number of pages in the PDF document?\n",
    "#getNumPages() method of PdfFileReader class stores the no pages in a PDF document.\n",
    "pdf_reader = PdfFileReader('D:/Test/test (1).pdf')\n",
    "print(pdf_reader.getNumPages())"
   ]
  },
  {
   "cell_type": "code",
   "execution_count": null,
   "id": "b6100234",
   "metadata": {},
   "outputs": [],
   "source": [
    "#Q4. If a PdfFileReader object’s PDF is encrypted with the password swordfish, what must you do before you can obtain Page objects from it?\n",
    "If a PdfFileReader object’s PDF is encrypted with the password swordfish and you are not aware of it. first read the Pdf using the PdfFileReader Class. PdfFileReader class provides a attribute called isEncrypted to check whether a pdf is encrypted or not. the method returns true if a pdf is encrypted and vice versa.\n",
    "if pdf is encrypted use the decrypt() method provided by PdfFileReader class first then try to read the contents/pages of the pdf, else PyPDF2 will raise the following error PyPDF2.utils.PdfReadError: file has not been decrypted."
   ]
  },
  {
   "cell_type": "code",
   "execution_count": null,
   "id": "e5133c37",
   "metadata": {},
   "outputs": [],
   "source": [
    "#Q5. What methods do you use to rotate a page?\n",
    "rotateClockWise() -> For Clockwise rotation\n",
    "rotateCounterClockWise() -> For Counter Clockwise rotation"
   ]
  },
  {
   "cell_type": "code",
   "execution_count": null,
   "id": "ecdedfc9",
   "metadata": {},
   "outputs": [],
   "source": [
    "#Q6. What is the difference between a Run object and a Paragraph object?\n",
    "The structure of a document is represented by three different data types in python-Docx. At the highest level, \n",
    "a Document object represents the entire document. The Document object contains a list of Paragraph objects for the paragraphs \n",
    "in the document. Each of these Paragraph objects contains a list of one or more Run objects.\n",
    "\n",
    "The text in a Word document is more than just a string. It has font, size, color, and other styling information associated with \n",
    "it. A style in Word is a collection of these attributes. A Run object is a contiguous run of text with the same style. \n",
    "A new Run object is needed whenever the text style changes."
   ]
  },
  {
   "cell_type": "code",
   "execution_count": 16,
   "id": "f87b1c86",
   "metadata": {},
   "outputs": [
    {
     "name": "stdout",
     "output_type": "stream",
     "text": [
      "Requirement already satisfied: python-docx in d:\\anaconda\\lib\\site-packages (0.8.11)\n",
      "Requirement already satisfied: lxml>=2.3.2 in d:\\anaconda\\lib\\site-packages (from python-docx) (4.8.0)\n"
     ]
    }
   ],
   "source": [
    "#Q7. How do you obtain a list of Paragraph objects for a Document object that’s stored in a variable named doc?\n",
    "!pip install python-docx"
   ]
  },
  {
   "cell_type": "code",
   "execution_count": null,
   "id": "193a8423",
   "metadata": {},
   "outputs": [],
   "source": [
    "from docx import Document\n",
    "doc = Document(location_of_package) \n",
    "print(doc.paragraphs) # print list of Paragraph\n",
    "for paragraph in doc.paragraphs:\n",
    "    print(paragraph.text) # print text present inside paragraph"
   ]
  },
  {
   "cell_type": "code",
   "execution_count": null,
   "id": "08772000",
   "metadata": {},
   "outputs": [],
   "source": [
    "#Q8. What type of object has bold, underline, italic, strike, and outline variables?\n",
    "Run object"
   ]
  },
  {
   "cell_type": "code",
   "execution_count": null,
   "id": "37bcf107",
   "metadata": {},
   "outputs": [],
   "source": [
    "#Q9. What is the difference between False, True, and None for the bold variable?\n",
    "bold = True (Style set to bold)\n",
    "bold = False (Style not Set to bold)\n",
    "bold = None (Style not Applicable)"
   ]
  },
  {
   "cell_type": "code",
   "execution_count": 19,
   "id": "7a82e10e",
   "metadata": {},
   "outputs": [],
   "source": [
    "#Q10. How do you create a Document object for a new Word document?\n",
    "from docx import Document\n",
    "document = Document()\n",
    "document.add_paragraph(\"This is a new document\")\n",
    "document.save('D:/newdoc.docx')"
   ]
  },
  {
   "cell_type": "code",
   "execution_count": 21,
   "id": "a64a7f9c",
   "metadata": {},
   "outputs": [],
   "source": [
    "#Q11. How do you add a paragraph with the text 'Hello, there!' to a Document object stored in a variable named doc?\n",
    "from docx import Document\n",
    "newdoc = Document()\n",
    "newdoc.add_paragraph('Hello, there!')\n",
    "newdoc.save('D:/newdoc1.docx')"
   ]
  },
  {
   "cell_type": "code",
   "execution_count": null,
   "id": "f373ab5a",
   "metadata": {},
   "outputs": [],
   "source": [
    "#Q12. What integers represent the levels of headings available in Word documents?\n",
    "0 makes a headline with the horizontal line below the text\n",
    "1 is main heading\n",
    "other headings are sub-heading with their font-sizes in decreasing order"
   ]
  }
 ],
 "metadata": {
  "kernelspec": {
   "display_name": "Python 3 (ipykernel)",
   "language": "python",
   "name": "python3"
  },
  "language_info": {
   "codemirror_mode": {
    "name": "ipython",
    "version": 3
   },
   "file_extension": ".py",
   "mimetype": "text/x-python",
   "name": "python",
   "nbconvert_exporter": "python",
   "pygments_lexer": "ipython3",
   "version": "3.9.12"
  }
 },
 "nbformat": 4,
 "nbformat_minor": 5
}
