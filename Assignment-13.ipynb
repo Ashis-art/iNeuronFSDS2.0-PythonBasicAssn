{
 "cells": [
  {
   "cell_type": "code",
   "execution_count": null,
   "id": "2a7a2fd5",
   "metadata": {},
   "outputs": [],
   "source": [
    "#Q1. What advantages do Excel spreadsheets have over CSV spreadsheets?\n",
    "- Excel file formats are better for storing and analysing complex data.\n",
    "- We can also do operations on the data using formulas in excel, whereas CSV files are plain-text files and does not contain any formulas."
   ]
  },
  {
   "cell_type": "code",
   "execution_count": null,
   "id": "bb453602",
   "metadata": {},
   "outputs": [],
   "source": [
    "#Q2.What do you pass to csv.reader() and csv.writer() to create reader and writer objects?\n",
    "A Reader object lets you iterate over lines in the CSV file. Enter the following into the interactive shell, with example.csv in the current working directory:\n",
    "import csv\n",
    "exampleFile = open('example.csv')\n",
    "exampleReader = csv.reader(exampleFile)\n",
    "exampleData = list(exampleReader)\n",
    "\n",
    "A Writer object lets you write data to a CSV file. To create a Writer object, you use the csv.writer() function. Enter the following into the interactive shell:\n",
    "outputFile = open('output.csv', 'w', newline='')\n",
    "outputWriter = csv.writer(outputFile)\n",
    "outputWriter.writerow(['spam', 'eggs', 'bacon', 'ham'])"
   ]
  },
  {
   "cell_type": "code",
   "execution_count": null,
   "id": "b99e43c0",
   "metadata": {},
   "outputs": [],
   "source": [
    "#Q3. What modes do File objects for reader and writer objects need to be opened in?\n",
    "For reader object the file objects needed to be opened in read mode mode='r'\n",
    "For writer object the file objects needed to be opened in write mode mode='w'"
   ]
  },
  {
   "cell_type": "code",
   "execution_count": null,
   "id": "0c754915",
   "metadata": {},
   "outputs": [],
   "source": [
    "#Q4. What method takes a list argument and writes it to a CSV file?\n",
    "writerow() and writerows()\n",
    "writerow() method writes a single row at a time\n",
    "writerows() method is used to write multiple rows at a time."
   ]
  },
  {
   "cell_type": "code",
   "execution_count": null,
   "id": "f348a8eb",
   "metadata": {},
   "outputs": [],
   "source": [
    "#Q5. What do the keyword arguments delimiter and line terminator do?\n",
    "Lets take the example of a csv file:\n",
    "Company, Designation, Salary\n",
    "Microsoft, SDE, 4500000\n",
    "Amazon, SDE-2, 5000000\n",
    "Here ',' is Delimiter. We can use any Character as per our needs if required.\n",
    "Line Terminator comes at end of line by default it is newline and can be changed accourding to Requirement."
   ]
  },
  {
   "cell_type": "code",
   "execution_count": 6,
   "id": "53b3bddc",
   "metadata": {},
   "outputs": [
    {
     "name": "stdout",
     "output_type": "stream",
     "text": [
      "{\n",
      "    \"Name\": \"Ashis kumar Pradhan\",\n",
      "    \"Age\": \"23\"\n",
      "}\n",
      "data type: <class 'str'>\n",
      "{'Name': 'Ashis kumar Pradhan', 'Age': '23'}\n",
      "data type: <class 'dict'>\n"
     ]
    }
   ],
   "source": [
    "#Q6. What function takes a string of JSON data and returns a Python data structure?\n",
    "#loads() method takes a string of JSON data and returns a Python data structure\n",
    "\n",
    "# Example of json.loads() method\n",
    "import json\n",
    "details ='''{\n",
    "    \"Name\": \"Ashis kumar Pradhan\",\n",
    "    \"Age\": \"23\"\n",
    "}'''\n",
    "print(details)\n",
    "print(f'data type: {type(details)}')\n",
    "details_converted = json.loads(details)\n",
    "print(details_converted)\n",
    "print(f'data type: {type(details_converted)}')"
   ]
  },
  {
   "cell_type": "code",
   "execution_count": null,
   "id": "e6c1d8b0",
   "metadata": {},
   "outputs": [],
   "source": [
    "#Q7. What function takes a Python data structure and returns a string of JSON data?\n",
    "dumps() method takes a python data structure and returns a string of JSON data\n",
    "\n",
    "dict1 ={\n",
    "    \"emp1\": {\n",
    "        \"name\": \"Lisa\",\n",
    "        \"designation\": \"programmer\",\n",
    "        \"age\": \"34\",\n",
    "        \"salary\": \"54000\"\n",
    "    },\n",
    "    \"emp2\": {\n",
    "        \"name\": \"Elis\",\n",
    "        \"designation\": \"Trainee\",\n",
    "        \"age\": \"24\",\n",
    "        \"salary\": \"40000\"\n",
    "    },\n",
    "}\n",
    "  \n",
    "# the json file where the output must be stored\n",
    "out_file = open(\"myfile.json\", \"w\")\n",
    "  \n",
    "json.dump(dict1, out_file, indent = 6)\n",
    "  \n",
    "out_file.close()"
   ]
  }
 ],
 "metadata": {
  "kernelspec": {
   "display_name": "Python 3 (ipykernel)",
   "language": "python",
   "name": "python3"
  },
  "language_info": {
   "codemirror_mode": {
    "name": "ipython",
    "version": 3
   },
   "file_extension": ".py",
   "mimetype": "text/x-python",
   "name": "python",
   "nbconvert_exporter": "python",
   "pygments_lexer": "ipython3",
   "version": "3.9.12"
  }
 },
 "nbformat": 4,
 "nbformat_minor": 5
}
