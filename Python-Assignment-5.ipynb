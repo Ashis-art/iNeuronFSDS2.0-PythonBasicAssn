{
 "cells": [
  {
   "cell_type": "markdown",
   "id": "97209ad7",
   "metadata": {},
   "source": [
    "# Assignment-5"
   ]
  },
  {
   "cell_type": "code",
   "execution_count": 3,
   "id": "79e0651c",
   "metadata": {},
   "outputs": [
    {
     "name": "stdout",
     "output_type": "stream",
     "text": [
      "{} <class 'dict'>\n"
     ]
    }
   ],
   "source": [
    "#Q1\n",
    "\n",
    "d = {}\n",
    "#or we ca create d = dict() like this\n",
    "print(d,type(d))"
   ]
  },
  {
   "cell_type": "code",
   "execution_count": null,
   "id": "ded5fdc7",
   "metadata": {},
   "outputs": [],
   "source": [
    "#Q2\n",
    "\n",
    "{'foo':42}"
   ]
  },
  {
   "cell_type": "code",
   "execution_count": null,
   "id": "b9a1498a",
   "metadata": {},
   "outputs": [],
   "source": [
    "#Q3\n",
    "\n",
    "- Dictionary are represented by {}, list are represented by [].\n",
    "- Dictionary contains key-value pair, where as list contains only value.\n",
    "- We can acess any value inside dictionary by its key, whereas in list we use index.\n",
    "- We ca not store duplicate element inside dictionary, but in list we can store."
   ]
  },
  {
   "cell_type": "code",
   "execution_count": 6,
   "id": "b014e25b",
   "metadata": {},
   "outputs": [
    {
     "ename": "KeyError",
     "evalue": "'foo'",
     "output_type": "error",
     "traceback": [
      "\u001b[1;31m---------------------------------------------------------------------------\u001b[0m",
      "\u001b[1;31mKeyError\u001b[0m                                  Traceback (most recent call last)",
      "Input \u001b[1;32mIn [6]\u001b[0m, in \u001b[0;36m<cell line: 4>\u001b[1;34m()\u001b[0m\n\u001b[0;32m      1\u001b[0m \u001b[38;5;66;03m#Q4\u001b[39;00m\n\u001b[0;32m      3\u001b[0m spam \u001b[38;5;241m=\u001b[39m {\u001b[38;5;124m'\u001b[39m\u001b[38;5;124mbar\u001b[39m\u001b[38;5;124m'\u001b[39m:\u001b[38;5;241m100\u001b[39m}\n\u001b[1;32m----> 4\u001b[0m \u001b[43mspam\u001b[49m\u001b[43m[\u001b[49m\u001b[38;5;124;43m'\u001b[39;49m\u001b[38;5;124;43mfoo\u001b[39;49m\u001b[38;5;124;43m'\u001b[39;49m\u001b[43m]\u001b[49m\n",
      "\u001b[1;31mKeyError\u001b[0m: 'foo'"
     ]
    }
   ],
   "source": [
    "#Q4\n",
    "\n",
    "spam = {'bar':100}\n",
    "spam['foo'] #It will give keyError as foo is not present inside spam"
   ]
  },
  {
   "cell_type": "code",
   "execution_count": null,
   "id": "ec035454",
   "metadata": {},
   "outputs": [],
   "source": [
    "#Q5\n",
    "\n",
    "There is no difference between 'cat' in spam and 'cat' in spam.keys(). The operator will check whether it exits as a key in the dictionary or not."
   ]
  },
  {
   "cell_type": "code",
   "execution_count": null,
   "id": "8a6fe33f",
   "metadata": {},
   "outputs": [],
   "source": [
    "#Q6\n",
    "\n",
    "'cat' will check for any key present inside spam as 'cat', 'cat' in spam.value() will check if threr is any value present inside\n",
    "spam as 'cat'."
   ]
  },
  {
   "cell_type": "code",
   "execution_count": null,
   "id": "30b9be85",
   "metadata": {},
   "outputs": [],
   "source": [
    "#Q7\n",
    "\n",
    "spam.setdefault('color'.'black')"
   ]
  },
  {
   "cell_type": "code",
   "execution_count": 15,
   "id": "d62ce729",
   "metadata": {},
   "outputs": [
    {
     "name": "stdout",
     "output_type": "stream",
     "text": [
      "By using pprint \n",
      "\n",
      "[{'brand': 'bmw',\n",
      "  'features': {'cc': 999, 'power': '203.83 bhp', 'torque': '113 Nm'},\n",
      "  'model': 's1000rr'},\n",
      " {'brand': 'suzuki',\n",
      "  'features': {'cc': 1340, 'power': '183.7 bhp', 'torque': '150 Nm'},\n",
      "  'model': 'hayabusa'},\n",
      " {'brand': 'Kawasaki',\n",
      "  'features': {'cc': 998, 'power': '200.21 bhp', 'torque': '114.9 Nm'},\n",
      "  'model': 'Ninja ZX-10R'}]\n",
      "\n",
      "\n",
      "By using json \n",
      "\n",
      "[\n",
      "    {\n",
      "        \"brand\": \"bmw\",\n",
      "        \"model\": \"s1000rr\",\n",
      "        \"features\": {\n",
      "            \"cc\": 999,\n",
      "            \"power\": \"203.83 bhp\",\n",
      "            \"torque\": \"113 Nm\"\n",
      "        }\n",
      "    },\n",
      "    {\n",
      "        \"brand\": \"suzuki\",\n",
      "        \"model\": \"hayabusa\",\n",
      "        \"features\": {\n",
      "            \"cc\": 1340,\n",
      "            \"power\": \"183.7 bhp\",\n",
      "            \"torque\": \"150 Nm\"\n",
      "        }\n",
      "    },\n",
      "    {\n",
      "        \"brand\": \"Kawasaki\",\n",
      "        \"model\": \"Ninja ZX-10R\",\n",
      "        \"features\": {\n",
      "            \"cc\": 998,\n",
      "            \"power\": \"200.21 bhp\",\n",
      "            \"torque\": \"114.9 Nm\"\n",
      "        }\n",
      "    }\n",
      "] \n",
      "\n",
      "By using yaml \n",
      "\n",
      "- brand: bmw\n",
      "  features:\n",
      "    cc: 999\n",
      "    power: 203.83 bhp\n",
      "    torque: 113 Nm\n",
      "  model: s1000rr\n",
      "- brand: suzuki\n",
      "  features:\n",
      "    cc: 1340\n",
      "    power: 183.7 bhp\n",
      "    torque: 150 Nm\n",
      "  model: hayabusa\n",
      "- brand: Kawasaki\n",
      "  features:\n",
      "    cc: 998\n",
      "    power: 200.21 bhp\n",
      "    torque: 114.9 Nm\n",
      "  model: Ninja ZX-10R\n",
      "\n"
     ]
    }
   ],
   "source": [
    "#Q8\n",
    "\n",
    "#We can \"pretty print\" a dictionary value by using following functions - pprint(), json.dumps(), yaml.dump()\n",
    "\n",
    "dic = [\n",
    "    {'brand':'bmw', 'model':'s1000rr', 'features':{'cc':999, 'power':'203.83 bhp', 'torque':'113 Nm'}},\n",
    "    {'brand':'suzuki', 'model':'hayabusa', 'features':{'cc':1340, 'power':'183.7 bhp', 'torque':'150 Nm'}},\n",
    "    {'brand':'Kawasaki', 'model':'Ninja ZX-10R', 'features':{'cc':998, 'power':'200.21 bhp', 'torque':'114.9 Nm'}}\n",
    "]\n",
    "\n",
    "import pprint\n",
    "print(\"By using pprint \\n\")\n",
    "pprint.pprint(dic)\n",
    "print(\"\\n\")\n",
    "\n",
    "import json\n",
    "print(\"By using json \\n\")\n",
    "d = json.dumps(dic, indent=4)\n",
    "print(d,\"\\n\")\n",
    "\n",
    "import yaml\n",
    "print(\"By using yaml \\n\")\n",
    "d1 = yaml.dump(dic)\n",
    "print(d1)"
   ]
  },
  {
   "cell_type": "code",
   "execution_count": null,
   "id": "b5f3c9d9",
   "metadata": {},
   "outputs": [],
   "source": []
  }
 ],
 "metadata": {
  "kernelspec": {
   "display_name": "Python 3 (ipykernel)",
   "language": "python",
   "name": "python3"
  },
  "language_info": {
   "codemirror_mode": {
    "name": "ipython",
    "version": 3
   },
   "file_extension": ".py",
   "mimetype": "text/x-python",
   "name": "python",
   "nbconvert_exporter": "python",
   "pygments_lexer": "ipython3",
   "version": "3.9.12"
  }
 },
 "nbformat": 4,
 "nbformat_minor": 5
}
