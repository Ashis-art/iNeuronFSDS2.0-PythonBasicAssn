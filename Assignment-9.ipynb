{
 "cells": [
  {
   "cell_type": "code",
   "execution_count": null,
   "id": "fd65e879",
   "metadata": {},
   "outputs": [],
   "source": [
    "#Q1. To what does a relative path refer?\n",
    "The relative path is the path to some file with respect to your current working directory.\n",
    "If Absolute path to a file called abc.txt is: C:/users/ashis/files/abc.txt and my current working directory is C:/users/ashis , then the relative path to abc.txt would be files/abc.txt\n",
    "current working directory + relative path = absolute path"
   ]
  },
  {
   "cell_type": "code",
   "execution_count": null,
   "id": "035e0ab9",
   "metadata": {},
   "outputs": [],
   "source": [
    "#Q2. What does an absolute path start with your operating system?\n",
    "In Windows based systems absolute path starts with C:"
   ]
  },
  {
   "cell_type": "code",
   "execution_count": null,
   "id": "dd7c77ec",
   "metadata": {},
   "outputs": [],
   "source": [
    "#Q3. What do the functions os.getcwd() and os.chdir() do?\n",
    "os.getcwd() method tells us the location of current working directory.\n",
    "os.chdir() method in Python used to change the current working directory to specified path."
   ]
  },
  {
   "cell_type": "code",
   "execution_count": null,
   "id": "5086e570",
   "metadata": {},
   "outputs": [],
   "source": [
    "#Q4. What are the . and .. folders?\n",
    ". represents the Current Directory\n",
    ".. represents the Parent Directory of the Current Directory"
   ]
  },
  {
   "cell_type": "code",
   "execution_count": null,
   "id": "b1ceae8e",
   "metadata": {},
   "outputs": [],
   "source": [
    "#Q5. In C:\\bacon\\eggs\\spam.txt, which part is the dir name, and which part is the base name?\n",
    "dir name is C:\\\\bacon\\\\eggs\n",
    "base name is spam.txt"
   ]
  },
  {
   "cell_type": "code",
   "execution_count": null,
   "id": "b205128d",
   "metadata": {},
   "outputs": [],
   "source": [
    "#Q6. What are the three “mode” arguments that can be passed to the open() function?\n",
    "Three \"mode\" arguments are read, write and append.\n",
    "r: open an existing file for a read operation.\n",
    "w: open an existing file for a write operation. If the file already contains some data then it will be overridden but if the file is not present then it creates the file as well.\n",
    "a: open an existing file for append operation. It won’t override existing data.\n",
    "r+: To read and write data into the file. The previous data in the file will be overridden."
   ]
  },
  {
   "cell_type": "code",
   "execution_count": null,
   "id": "5706dd93",
   "metadata": {},
   "outputs": [],
   "source": [
    "#Q7. What happens if an existing file is opened in write mode?\n",
    "Using this mode will overwrite any existing content in a file. If the given file does not exist, a new one will be created."
   ]
  },
  {
   "cell_type": "code",
   "execution_count": null,
   "id": "c072ca21",
   "metadata": {},
   "outputs": [],
   "source": [
    "#Q8. How do you tell the difference between read() and readlines()?\n",
    "read() will read the whole file at once and then print out the first characters that take up as many bytes as you specify in the parenthesis\n",
    "readline() that will read and print out only the first characters that take up as many bytes as you specify in the parenthesis.\n",
    "read() would treat each character in the file separately, meaning that the iteration would happen for every character.\n",
    "readline() function, on the other hand, only reads a single line of the file. This means that if the first line of the file were three lines long, the readline() function would only parse (or iterate/operate) on the first line of the file."
   ]
  },
  {
   "cell_type": "code",
   "execution_count": null,
   "id": "c936e940",
   "metadata": {},
   "outputs": [],
   "source": [
    "#Q9. What data structure does a shelf value resemble?\n",
    "It contains key and values, it represents dictionary."
   ]
  }
 ],
 "metadata": {
  "kernelspec": {
   "display_name": "Python 3 (ipykernel)",
   "language": "python",
   "name": "python3"
  },
  "language_info": {
   "codemirror_mode": {
    "name": "ipython",
    "version": 3
   },
   "file_extension": ".py",
   "mimetype": "text/x-python",
   "name": "python",
   "nbconvert_exporter": "python",
   "pygments_lexer": "ipython3",
   "version": "3.9.12"
  }
 },
 "nbformat": 4,
 "nbformat_minor": 5
}
