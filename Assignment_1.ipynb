{
 "cells": [
  {
   "cell_type": "markdown",
   "id": "5c3ea0d6",
   "metadata": {},
   "source": [
    "# Assignment-1"
   ]
  },
  {
   "cell_type": "code",
   "execution_count": null,
   "id": "fd43ad3f",
   "metadata": {},
   "outputs": [],
   "source": [
    "Q1.\n",
    "Value - 'hello', -87.8, 6\n",
    "Expression - *, -, /, +"
   ]
  },
  {
   "cell_type": "code",
   "execution_count": null,
   "id": "e27a013e",
   "metadata": {},
   "outputs": [],
   "source": [
    "Q2.\n",
    "String is a data type which is declared inside \"\" or '' and contains a single \n",
    "or more character, whereas a variable is act like a storage or reference of the\n",
    "datatypes and follows some naming conventions."
   ]
  },
  {
   "cell_type": "code",
   "execution_count": null,
   "id": "fd94fccf",
   "metadata": {},
   "outputs": [],
   "source": [
    "Q3.\n",
    "Three different data types are - Numeric(int, float and complex) , Text type(str), Boolean\n",
    "- Numeric data type represents numbers like whole number, floating point number, compex number etc.\n",
    "    e.g- int_val = 10, float_val = 10.5, comp_val = 10+5j\n",
    "- Text type represents string value which contains a single character or multiple characters which is represent inside '' or \"\"\n",
    "    e.g - s = 'a', s=\"hi\", s = \"hi123\"\n",
    "- Boolean value represents if value is True or Flase"
   ]
  },
  {
   "cell_type": "code",
   "execution_count": null,
   "id": "f58af638",
   "metadata": {},
   "outputs": [],
   "source": [
    "Q4.\n",
    "Expression is made up of operator, variables and constants i.e it contains number, characters, symbols and operators.\n",
    "Expression is used to produce some produce some value/result before that it cheked by interpreter to \n",
    "verify if the expression is valid or not."
   ]
  },
  {
   "cell_type": "code",
   "execution_count": null,
   "id": "421f1d40",
   "metadata": {},
   "outputs": [],
   "source": [
    "Q5.\n",
    "Expression is made up of operator, variables and constant where as a statement is used to create\n",
    "a variable or displaying a value. Expression returns some value where as statement does not.\n",
    "e.g- 2+20*20-5+10/2 is an example of expression\n",
    "    stmt = \"Hi how are you?\" is an example of statement"
   ]
  },
  {
   "cell_type": "code",
   "execution_count": 2,
   "id": "dbef3f43",
   "metadata": {},
   "outputs": [
    {
     "data": {
      "text/plain": [
       "23"
      ]
     },
     "execution_count": 2,
     "metadata": {},
     "output_type": "execute_result"
    }
   ],
   "source": [
    "# Q6.\n",
    "bacon = 22\n",
    "bacon + 1"
   ]
  },
  {
   "cell_type": "code",
   "execution_count": 3,
   "id": "e6d17b74",
   "metadata": {},
   "outputs": [
    {
     "data": {
      "text/plain": [
       "22"
      ]
     },
     "execution_count": 3,
     "metadata": {},
     "output_type": "execute_result"
    }
   ],
   "source": [
    "bacon"
   ]
  },
  {
   "cell_type": "code",
   "execution_count": null,
   "id": "2dce2159",
   "metadata": {},
   "outputs": [],
   "source": [
    "bacon contains value 22"
   ]
  },
  {
   "cell_type": "code",
   "execution_count": 4,
   "id": "286c5a69",
   "metadata": {},
   "outputs": [
    {
     "data": {
      "text/plain": [
       "'spamspamspam'"
      ]
     },
     "execution_count": 4,
     "metadata": {},
     "output_type": "execute_result"
    }
   ],
   "source": [
    "# Q7.\n",
    "'spam'+'spamspam'"
   ]
  },
  {
   "cell_type": "code",
   "execution_count": 5,
   "id": "aba44210",
   "metadata": {},
   "outputs": [
    {
     "data": {
      "text/plain": [
       "'spamspamspam'"
      ]
     },
     "execution_count": 5,
     "metadata": {},
     "output_type": "execute_result"
    }
   ],
   "source": [
    "'spam'*3"
   ]
  },
  {
   "cell_type": "code",
   "execution_count": null,
   "id": "0ef2e102",
   "metadata": {},
   "outputs": [],
   "source": [
    "# Q8.\n",
    "As per rules of variable declaration in Python, we can not decalre a variable starting with a number \n",
    "thats why egg is valid but 100 is invalid. Expect from that there are also some more regulation for\n",
    "variable declaration like variable name only contains alpha-numeric and _, we can not use reseved\n",
    "words/keyword as variable."
   ]
  },
  {
   "cell_type": "code",
   "execution_count": null,
   "id": "e176e34b",
   "metadata": {},
   "outputs": [],
   "source": [
    "# Q9.\n",
    "int() used to get integer version of a value\n",
    "float() used to get floating-point version of a value\n",
    "str() used to get string version of a value"
   ]
  },
  {
   "cell_type": "code",
   "execution_count": 6,
   "id": "b70c700c",
   "metadata": {},
   "outputs": [
    {
     "name": "stdout",
     "output_type": "stream",
     "text": [
      "12\n",
      "12.0\n",
      "12\n"
     ]
    }
   ],
   "source": [
    "# e.g of Q.9\n",
    "print(int(12.23))\n",
    "print(float(12))\n",
    "print(str(12))"
   ]
  },
  {
   "cell_type": "code",
   "execution_count": null,
   "id": "c7dc7063",
   "metadata": {},
   "outputs": [],
   "source": [
    "# Q10.\n",
    "'I have eaten'+99+'burritos.', we will get error in this expression because 99 is not a string we can \n",
    "only concat one string value with another string value.\n",
    "So the solve that issue we need to convert 99 to string (i.e '99')"
   ]
  },
  {
   "cell_type": "code",
   "execution_count": 8,
   "id": "354c3bf9",
   "metadata": {},
   "outputs": [
    {
     "data": {
      "text/plain": [
       "'I have eaten99burritos.'"
      ]
     },
     "execution_count": 8,
     "metadata": {},
     "output_type": "execute_result"
    }
   ],
   "source": [
    "# Fixed result\n",
    "'I have eaten'+'99'+'burritos.'"
   ]
  },
  {
   "cell_type": "code",
   "execution_count": null,
   "id": "d44f930b",
   "metadata": {},
   "outputs": [],
   "source": []
  }
 ],
 "metadata": {
  "kernelspec": {
   "display_name": "Python 3 (ipykernel)",
   "language": "python",
   "name": "python3"
  },
  "language_info": {
   "codemirror_mode": {
    "name": "ipython",
    "version": 3
   },
   "file_extension": ".py",
   "mimetype": "text/x-python",
   "name": "python",
   "nbconvert_exporter": "python",
   "pygments_lexer": "ipython3",
   "version": "3.9.12"
  }
 },
 "nbformat": 4,
 "nbformat_minor": 5
}
