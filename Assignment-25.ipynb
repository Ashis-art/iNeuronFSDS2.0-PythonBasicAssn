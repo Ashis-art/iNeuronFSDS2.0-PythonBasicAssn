{
 "cells": [
  {
   "cell_type": "code",
   "execution_count": 1,
   "id": "33acc443",
   "metadata": {},
   "outputs": [
    {
     "name": "stdout",
     "output_type": "stream",
     "text": [
      "<class 'list'>\n",
      "<class 'tuple'>\n"
     ]
    }
   ],
   "source": [
    "#Q1) . What is the difference between enclosing a list comprehension in square brackets and parentheses?\n",
    "#If we enclose a list comprehension in square brackets it will become a list and in parentheses it will become tuple\n",
    "l1 = [1,2,3,4,5]\n",
    "print(type(l1))\n",
    "l2 = (1,2,3,4,5)\n",
    "print(type(l2))"
   ]
  },
  {
   "cell_type": "code",
   "execution_count": null,
   "id": "782b3018",
   "metadata": {},
   "outputs": [],
   "source": [
    "#Q2) What is the relationship between generators and iterators?\n",
    "Iterators are the objects that use the next() method to get the next value of the sequence, whereas generator is a function \n",
    "that produces or yields a sequence of values using a yield statement.\n",
    "Classes are used to Implement the iterators, functions are used to implement the generator.\n",
    "No local variables are used in Iterators, all the local variables are stored before the yield statement.\n",
    "Iterators in python are less memory efficient, generators in Python are more memory efficient."
   ]
  },
  {
   "cell_type": "code",
   "execution_count": 4,
   "id": "e80a7e15",
   "metadata": {},
   "outputs": [
    {
     "name": "stdout",
     "output_type": "stream",
     "text": [
      "o\n",
      "l\n",
      "l\n",
      "e\n",
      "h\n"
     ]
    }
   ],
   "source": [
    "#Q3) What are the signs that a function is a generator function?\n",
    "#If a function contains at least one yield statement (it may contain other yield or return statements), it becomes a generator function.\n",
    "def rev_str(my_str):\n",
    "    length = len(my_str)\n",
    "    for i in range(length - 1, -1, -1):\n",
    "        yield my_str[i]\n",
    "\n",
    "\n",
    "# For loop to reverse the string\n",
    "for char in rev_str(\"hello\"):\n",
    "    print(char)"
   ]
  },
  {
   "cell_type": "code",
   "execution_count": null,
   "id": "0de7fcc9",
   "metadata": {},
   "outputs": [],
   "source": [
    "#Q4) What is the purpose of a yield statement?\n",
    "The Yield keyword in Python is similar to a return statement used for returning values or objects in Python. However, there is \n",
    "a slight difference. The yield statement returns a generator object to the one who calls the function which contains yield, \n",
    "instead of simply returning a value."
   ]
  },
  {
   "cell_type": "code",
   "execution_count": null,
   "id": "b45e1b5e",
   "metadata": {},
   "outputs": [],
   "source": [
    "#Q5) What is the relationship between map calls and list comprehensions? Make a comparison and contrast between the two.\n",
    "List comprehension returns a list, whereas the map function returns an object of Iterable.\n",
    "List comprehension is more concise and easier to read as compared to map.\n",
    "List comprehension allows filtering. In map, we have no such facility. For example, to print all even numbers in range of 100, \n",
    "we can write [n for n in range(100) if n%2 == 0]. There is no alternate for it in map"
   ]
  },
  {
   "cell_type": "code",
   "execution_count": 6,
   "id": "050b3232",
   "metadata": {},
   "outputs": [
    {
     "name": "stdout",
     "output_type": "stream",
     "text": [
      "<map object at 0x000002175F6191C0>\n",
      "[4, 88, 11.0, 12, -14]\n"
     ]
    }
   ],
   "source": [
    "#example of map\n",
    "def num (n) :\n",
    "    return n * 2\n",
    "          \n",
    "lst = [2, 44, 5.5, 6, -7]\n",
    "\n",
    "x = map(num, lst) \n",
    "print(x)\n",
    "print(list(x)) "
   ]
  },
  {
   "cell_type": "code",
   "execution_count": 7,
   "id": "fd2a1dc9",
   "metadata": {},
   "outputs": [
    {
     "name": "stdout",
     "output_type": "stream",
     "text": [
      "[4, 88, 11.0, 12, -14]\n"
     ]
    }
   ],
   "source": [
    "#example of list comprehensions\n",
    "lst = [2, 44, 5.5, 6, -7]\n",
    "\n",
    "new_lst = [n*2 for n in lst]\n",
    "\n",
    "print(new_lst)"
   ]
  }
 ],
 "metadata": {
  "kernelspec": {
   "display_name": "Python 3 (ipykernel)",
   "language": "python",
   "name": "python3"
  },
  "language_info": {
   "codemirror_mode": {
    "name": "ipython",
    "version": 3
   },
   "file_extension": ".py",
   "mimetype": "text/x-python",
   "name": "python",
   "nbconvert_exporter": "python",
   "pygments_lexer": "ipython3",
   "version": "3.9.12"
  }
 },
 "nbformat": 4,
 "nbformat_minor": 5
}
