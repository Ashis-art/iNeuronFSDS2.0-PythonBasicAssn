{
 "cells": [
  {
   "cell_type": "markdown",
   "id": "3c4471b8",
   "metadata": {},
   "source": [
    "# ASSIGNMENT-3"
   ]
  },
  {
   "cell_type": "code",
   "execution_count": null,
   "id": "960f6ca0",
   "metadata": {},
   "outputs": [],
   "source": [
    "Q1.\n",
    "\n",
    "The advantages of function are code reusability, reduce duplication of code, we can reduce large complex code into smaller \n",
    "chunk, increase programme readability."
   ]
  },
  {
   "cell_type": "code",
   "execution_count": null,
   "id": "14c86729",
   "metadata": {},
   "outputs": [],
   "source": [
    "Q2.\n",
    "\n",
    "The function in a code runs when it's called."
   ]
  },
  {
   "cell_type": "code",
   "execution_count": null,
   "id": "c7085154",
   "metadata": {},
   "outputs": [],
   "source": [
    "Q3.\n",
    "\n",
    "def keyword creates a function"
   ]
  },
  {
   "cell_type": "code",
   "execution_count": 2,
   "id": "71de3747",
   "metadata": {},
   "outputs": [
    {
     "name": "stdout",
     "output_type": "stream",
     "text": [
      "Hello World!\n"
     ]
    }
   ],
   "source": [
    "def hello():\n",
    "    print(\"Hello World!\")\n",
    "hello()"
   ]
  },
  {
   "cell_type": "code",
   "execution_count": null,
   "id": "ce3d5a59",
   "metadata": {},
   "outputs": [],
   "source": [
    "Q4.\n",
    "\n",
    "A function is a reusble block of programming statement which is made to perform certain task. But function can not execute by \n",
    "itself, so for that we use fucntion call which helps to run that function."
   ]
  },
  {
   "cell_type": "code",
   "execution_count": null,
   "id": "f51e9aea",
   "metadata": {},
   "outputs": [],
   "source": [
    "Q5.\n",
    "\n",
    "There is one global scope and it exist till termination of programme, local scope is created whenever a function is called."
   ]
  },
  {
   "cell_type": "code",
   "execution_count": null,
   "id": "fb5d2734",
   "metadata": {},
   "outputs": [],
   "source": [
    "Q6.\n",
    "\n",
    "After a function call the local scope get destroyed and all local variables ijn it are forgotten."
   ]
  },
  {
   "cell_type": "code",
   "execution_count": null,
   "id": "12610e83",
   "metadata": {},
   "outputs": [],
   "source": [
    "Q7.\n",
    "\n",
    "A return value is a value that function return while execution. We can use return value in any expression."
   ]
  },
  {
   "cell_type": "code",
   "execution_count": null,
   "id": "c7d86e1d",
   "metadata": {},
   "outputs": [],
   "source": [
    "Q8.\n",
    "\n",
    "If a function does not have a return statement, it will return value as None"
   ]
  },
  {
   "cell_type": "code",
   "execution_count": null,
   "id": "4e08599a",
   "metadata": {},
   "outputs": [],
   "source": [
    "Q9.\n",
    "\n",
    "In order to make a functional variable refer to global variable we need to use global keyword to declare that specific \n",
    "fucntional variable."
   ]
  },
  {
   "cell_type": "code",
   "execution_count": 3,
   "id": "6c824591",
   "metadata": {},
   "outputs": [
    {
     "data": {
      "text/plain": [
       "NoneType"
      ]
     },
     "execution_count": 3,
     "metadata": {},
     "output_type": "execute_result"
    }
   ],
   "source": [
    "Q10.\n",
    "Data tyoe of None is NoneType"
   ]
  },
  {
   "cell_type": "code",
   "execution_count": 4,
   "id": "42e5f800",
   "metadata": {},
   "outputs": [
    {
     "data": {
      "text/plain": [
       "NoneType"
      ]
     },
     "execution_count": 4,
     "metadata": {},
     "output_type": "execute_result"
    }
   ],
   "source": [
    "type(None)"
   ]
  },
  {
   "cell_type": "code",
   "execution_count": null,
   "id": "3546b48e",
   "metadata": {},
   "outputs": [],
   "source": [
    "Q11.\n",
    "\n",
    "The setence will import a module named as areallyourpetsnamederic."
   ]
  },
  {
   "cell_type": "markdown",
   "id": "1511f681",
   "metadata": {},
   "source": [
    "Q12.\n",
    "\n",
    "The features bacon() can be called as spam.bacon()"
   ]
  },
  {
   "cell_type": "code",
   "execution_count": null,
   "id": "22dfe02f",
   "metadata": {},
   "outputs": [],
   "source": [
    "Q13.\n",
    "\n",
    "We can write the line/block of code that might create an exception inside try block and use except block handel the error \n",
    "and to show the exception details."
   ]
  },
  {
   "cell_type": "code",
   "execution_count": null,
   "id": "ecbc5ba3",
   "metadata": {},
   "outputs": [],
   "source": [
    "Q14.\n",
    "\n",
    "try and except block is mainly used for exception handling. the code block that might create an exception kept inside try block\n",
    "and try block will check if there is any errorm, then except block handle the error. "
   ]
  }
 ],
 "metadata": {
  "kernelspec": {
   "display_name": "Python 3 (ipykernel)",
   "language": "python",
   "name": "python3"
  },
  "language_info": {
   "codemirror_mode": {
    "name": "ipython",
    "version": 3
   },
   "file_extension": ".py",
   "mimetype": "text/x-python",
   "name": "python",
   "nbconvert_exporter": "python",
   "pygments_lexer": "ipython3",
   "version": "3.9.12"
  }
 },
 "nbformat": 4,
 "nbformat_minor": 5
}
