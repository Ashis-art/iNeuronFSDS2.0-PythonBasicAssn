{
 "cells": [
  {
   "cell_type": "code",
   "execution_count": null,
   "id": "691caf9c",
   "metadata": {},
   "outputs": [],
   "source": [
    "#Q1. What are Escape characters, and how do you use them ?\n",
    "Escape character is a sequence of character , when used inside a string it respresent some other characters or services which is\n",
    "imposible if we try to do by writting program, for example newline (/n). \n",
    "We can escape character by giving a backslash before the special character. e.g - /n (new line), /t (tab), \\v (vertical tab)"
   ]
  },
  {
   "cell_type": "code",
   "execution_count": 2,
   "id": "47ed873e",
   "metadata": {},
   "outputs": [
    {
     "name": "stdout",
     "output_type": "stream",
     "text": [
      "Hi I am Ashis \n",
      " I am from Odisha\n",
      "I am studing data science at \t iNeuron\n"
     ]
    }
   ],
   "source": [
    "#Q2. What do the escape characters n and t stand for?\n",
    "#n - new line\n",
    "#t - tab\n",
    "print(\"Hi I am Ashis \\n I am from Odisha\")\n",
    "print(\"I am studing data science at \\t iNeuron\")"
   ]
  },
  {
   "cell_type": "code",
   "execution_count": null,
   "id": "1a60c237",
   "metadata": {},
   "outputs": [],
   "source": [
    "#Q3. What is the way to include backslash characters in a string?\n",
    "The \\\\ escape character will represent the backslash character in a string."
   ]
  },
  {
   "cell_type": "code",
   "execution_count": 3,
   "id": "0297c88a",
   "metadata": {},
   "outputs": [
    {
     "name": "stdout",
     "output_type": "stream",
     "text": [
      "Howl's moving castle\n"
     ]
    }
   ],
   "source": [
    "#Q4. \n",
    "print(\"Howl's moving castle\")\n",
    "# ' in Howl's will not give any problem as it is wrapped inside doublw qoute i.e. \"\""
   ]
  },
  {
   "cell_type": "code",
   "execution_count": 5,
   "id": "3314e91f",
   "metadata": {},
   "outputs": [
    {
     "name": "stdout",
     "output_type": "stream",
     "text": [
      "Hi,\n",
      "I am Ashis\n"
     ]
    }
   ],
   "source": [
    "#Q5. How do you write a string of newlines if you do not want to use the n character?\n",
    "s = '''Hi,\n",
    "I am Ashis'''\n",
    "print(s)"
   ]
  },
  {
   "cell_type": "code",
   "execution_count": 6,
   "id": "baab35f8",
   "metadata": {},
   "outputs": [
    {
     "name": "stdout",
     "output_type": "stream",
     "text": [
      "e\n",
      "Hello\n",
      "Hello\n",
      "lo, world!\n"
     ]
    }
   ],
   "source": [
    "#Q6. What are the values of the given expressions?\n",
    "print('Hello, world!'[1]) #e\n",
    "print('Hello, world!'[0:5]) #Hello\n",
    "print('Hello, world!'[:5]) #Hello\n",
    "print('Hello, world!'[3:]) #lo, world!"
   ]
  },
  {
   "cell_type": "code",
   "execution_count": 7,
   "id": "0ef6083d",
   "metadata": {},
   "outputs": [
    {
     "name": "stdout",
     "output_type": "stream",
     "text": [
      "HELLO\n",
      "True\n",
      "hello\n"
     ]
    }
   ],
   "source": [
    "#Q7. What are the values of the following expressions?\n",
    "print('Hello'.upper()) # HELLO\n",
    "print('Hello'.upper().isupper()) #True\n",
    "print('Hello'.upper().lower()) #hello"
   ]
  },
  {
   "cell_type": "code",
   "execution_count": 8,
   "id": "67a2d132",
   "metadata": {},
   "outputs": [
    {
     "name": "stdout",
     "output_type": "stream",
     "text": [
      "['Remember,', 'remember,', 'the', 'fifth', 'of', 'July.']\n",
      "There-can-only-one.\n"
     ]
    }
   ],
   "source": [
    "#Q8. What are the values of the following expressions?\n",
    "print('Remember, remember, the fifth of July.'.split()) # ['Remeber,', 'remember,', 'the', 'fifth', 'of', 'July.']\n",
    "print('-'.join('There can only one.'.split())) # There-can-only-one"
   ]
  },
  {
   "cell_type": "code",
   "execution_count": 10,
   "id": "00790fef",
   "metadata": {},
   "outputs": [
    {
     "name": "stdout",
     "output_type": "stream",
     "text": [
      "********Hi\n",
      "Hi********\n",
      "    Hi    \n"
     ]
    }
   ],
   "source": [
    "#Q9. What are the methods for right-justifying, left-justifying, and centering a string?\n",
    "str  = \"Hi\"\n",
    "#right-justifying - rjust()\n",
    "print(str.rjust(10,'*'))\n",
    "\n",
    "str1 = \"Hi\"\n",
    "#left-justifying = ljust()\n",
    "print(str.ljust(10,'*'))\n",
    "\n",
    "str2 = \"Hi\"\n",
    "#centering = center()\n",
    "print(str.center(10))"
   ]
  },
  {
   "cell_type": "code",
   "execution_count": 13,
   "id": "cc097da4",
   "metadata": {},
   "outputs": [
    {
     "name": "stdout",
     "output_type": "stream",
     "text": [
      "Hello!\n"
     ]
    }
   ],
   "source": [
    "#Q10. What is the best way to remove whitespace characters from the start or end?\n",
    "#strip() is best method for removing whitespace characters from the start or end\n",
    "str = \"     Hello!     \"\n",
    "print(str.strip())"
   ]
  },
  {
   "cell_type": "code",
   "execution_count": null,
   "id": "a8623ad2",
   "metadata": {},
   "outputs": [],
   "source": []
  }
 ],
 "metadata": {
  "kernelspec": {
   "display_name": "Python 3 (ipykernel)",
   "language": "python",
   "name": "python3"
  },
  "language_info": {
   "codemirror_mode": {
    "name": "ipython",
    "version": 3
   },
   "file_extension": ".py",
   "mimetype": "text/x-python",
   "name": "python",
   "nbconvert_exporter": "python",
   "pygments_lexer": "ipython3",
   "version": "3.9.12"
  }
 },
 "nbformat": 4,
 "nbformat_minor": 5
}
