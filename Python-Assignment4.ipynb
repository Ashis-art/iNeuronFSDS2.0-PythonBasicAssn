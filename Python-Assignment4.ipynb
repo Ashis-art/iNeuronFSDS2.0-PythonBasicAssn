{
 "cells": [
  {
   "cell_type": "markdown",
   "id": "d7d2823e",
   "metadata": {},
   "source": [
    "# assignment4"
   ]
  },
  {
   "cell_type": "code",
   "execution_count": null,
   "id": "65457d79",
   "metadata": {},
   "outputs": [],
   "source": [
    "Q1.\n",
    "\n",
    "[] is an empty list, which means this list does not have any element."
   ]
  },
  {
   "cell_type": "code",
   "execution_count": 2,
   "id": "a5ad14c0",
   "metadata": {},
   "outputs": [
    {
     "data": {
      "text/plain": [
       "[2, 4, 'hello', 8, 10]"
      ]
     },
     "execution_count": 2,
     "metadata": {},
     "output_type": "execute_result"
    }
   ],
   "source": [
    "#Q2.\n",
    "\n",
    "spam = [2,4,6,8,10]\n",
    "\n",
    "spam[2] = \"hello\" # we need to sepcify asked index-1 (as index starts from 0) inside [] and assign the value we need to enter.\n",
    "\n",
    "spam # for printing the list"
   ]
  },
  {
   "cell_type": "code",
   "execution_count": 5,
   "id": "94486059",
   "metadata": {},
   "outputs": [
    {
     "name": "stdout",
     "output_type": "stream",
     "text": [
      "d\n"
     ]
    }
   ],
   "source": [
    "#Q3\n",
    "\n",
    "spam = ['a','b','c','d']\n",
    "\n",
    "print(spam[int(int('3'*2)/11)])\n",
    "\n",
    "# '3' * 2 = '33' so after converting to int it will becom integer, then int(33/11) = 3, so spam[3] = 'd'"
   ]
  },
  {
   "cell_type": "code",
   "execution_count": 7,
   "id": "694d1d8b",
   "metadata": {},
   "outputs": [
    {
     "name": "stdout",
     "output_type": "stream",
     "text": [
      "d\n"
     ]
    }
   ],
   "source": [
    "#Q4\n",
    "print(spam[-1])\n",
    "# It will print 'd', as we are trvaersing in negative index"
   ]
  },
  {
   "cell_type": "code",
   "execution_count": 9,
   "id": "b8490f6f",
   "metadata": {},
   "outputs": [
    {
     "name": "stdout",
     "output_type": "stream",
     "text": [
      "['a', 'b']\n"
     ]
    }
   ],
   "source": [
    "#Q5\n",
    "\n",
    "print(spam[0:2])\n",
    "# It will pritn all the value present in 0,1 index"
   ]
  },
  {
   "cell_type": "code",
   "execution_count": 2,
   "id": "9f14d5bb",
   "metadata": {},
   "outputs": [
    {
     "data": {
      "text/plain": [
       "1"
      ]
     },
     "execution_count": 2,
     "metadata": {},
     "output_type": "execute_result"
    }
   ],
   "source": [
    "#Q6\n",
    "\n",
    "bacon = [3.14,'cat',11,'cat',True]\n",
    "bacon.index('cat') #1"
   ]
  },
  {
   "cell_type": "code",
   "execution_count": 3,
   "id": "150510cc",
   "metadata": {},
   "outputs": [
    {
     "data": {
      "text/plain": [
       "[3.14, 'cat', 11, 'cat', True, 99]"
      ]
     },
     "execution_count": 3,
     "metadata": {},
     "output_type": "execute_result"
    }
   ],
   "source": [
    "#Q7\n",
    "\n",
    "bacon.append(99)\n",
    "bacon #modified list - [3.14,'cat',11,'cat',True,99] "
   ]
  },
  {
   "cell_type": "code",
   "execution_count": 4,
   "id": "7e95d2f0",
   "metadata": {},
   "outputs": [
    {
     "data": {
      "text/plain": [
       "[3.14, 11, 'cat', True, 99]"
      ]
     },
     "execution_count": 4,
     "metadata": {},
     "output_type": "execute_result"
    }
   ],
   "source": [
    "#Q8\n",
    "\n",
    "bacon.remove('cat')\n",
    "bacon #modifeis list - [3.14,11,'cat',True,99]"
   ]
  },
  {
   "cell_type": "code",
   "execution_count": 5,
   "id": "7299d0bb",
   "metadata": {},
   "outputs": [
    {
     "name": "stdout",
     "output_type": "stream",
     "text": [
      "[1, 2, 3, 4, 'a', 'v', 9, 10]\n",
      "[1, 2, 3, 4, 1, 2, 3, 4]\n"
     ]
    }
   ],
   "source": [
    "#Q9\n",
    "\n",
    "l1 = [1,2,3,4]\n",
    "l2 = ['a','v',9,10]\n",
    "\n",
    "print(l1+l2) #list concatenation\n",
    "print(l1*2) #list replication"
   ]
  },
  {
   "cell_type": "code",
   "execution_count": 6,
   "id": "a9fca739",
   "metadata": {},
   "outputs": [
    {
     "name": "stdout",
     "output_type": "stream",
     "text": [
      "[10, 1111, 23, 454, 677, 23, 999]\n"
     ]
    }
   ],
   "source": [
    "#Q10\n",
    "\n",
    "#append() will insert new element at end of the list\n",
    "#insert() will take an index and value and put that value in that speciifed index\n",
    "\n",
    "l1 = [10,23,454,677,23]\n",
    "l1.append(999)\n",
    "l1.insert(1,1111)\n",
    "print(l1)"
   ]
  },
  {
   "cell_type": "code",
   "execution_count": 8,
   "id": "17d01fa2",
   "metadata": {},
   "outputs": [],
   "source": [
    "Q11\n",
    "\n",
    "- remove() will take a value and delete that from the list\n",
    "-del() will take an index and delete value at that index, it can also take a range"
   ]
  },
  {
   "cell_type": "code",
   "execution_count": null,
   "id": "9d640f47",
   "metadata": {},
   "outputs": [],
   "source": [
    "Q12\n",
    "\n",
    "Some similarities of list and string\n",
    "-Both have same indexing system\n",
    "-We ca get length of both by len function\n",
    "-Concatenation and replication opperation are similar\n",
    "-We can itereate both of them using for loop\n",
    "-We can also use in and not in function for both"
   ]
  },
  {
   "cell_type": "code",
   "execution_count": null,
   "id": "fbd0442a",
   "metadata": {},
   "outputs": [],
   "source": [
    "Q13\n",
    "\n",
    "Difference between list and tuple-\n",
    "\n",
    "- lists are mutable whereas tuples are immutable.\n",
    "- lists are represented by [], whereas tuples are in ().\n",
    "- Insertion, deletetion operations are fast in list, but in case of accessing element tuples are fast."
   ]
  },
  {
   "cell_type": "code",
   "execution_count": 3,
   "id": "7f997e2e",
   "metadata": {},
   "outputs": [
    {
     "name": "stdout",
     "output_type": "stream",
     "text": [
      "(42,) <class 'tuple'>\n"
     ]
    }
   ],
   "source": [
    "#Q14\n",
    "\n",
    "tup = (42,)\n",
    "print(tup,type(tup))\n",
    "#We need to give comma at end or else it will be considered as int"
   ]
  },
  {
   "cell_type": "code",
   "execution_count": 5,
   "id": "ce6ba429",
   "metadata": {},
   "outputs": [
    {
     "name": "stdout",
     "output_type": "stream",
     "text": [
      "<class 'list'>\n",
      "<class 'tuple'>\n"
     ]
    }
   ],
   "source": [
    "#Q15\n",
    "\n",
    "#tuple() used to conver list into tuple and list() used for converting tuple into list\n",
    "l1 = ['abc',123,\"hi\",'a',12]\n",
    "t1 = tuple(l1)\n",
    "l2 = list(t1)\n",
    "print(type(l1))\n",
    "print(type(t1))"
   ]
  },
  {
   "cell_type": "code",
   "execution_count": null,
   "id": "f1f52299",
   "metadata": {},
   "outputs": [],
   "source": [
    "#Q16\n",
    "\n",
    "They contains reference to list value."
   ]
  },
  {
   "cell_type": "code",
   "execution_count": null,
   "id": "3963bba0",
   "metadata": {},
   "outputs": [],
   "source": [
    "#Q17\n",
    "\n",
    "copy.copy() return a shalllow copy of an object, whereas copy.deepcopy() will return a deep copy of the object."
   ]
  }
 ],
 "metadata": {
  "kernelspec": {
   "display_name": "Python 3 (ipykernel)",
   "language": "python",
   "name": "python3"
  },
  "language_info": {
   "codemirror_mode": {
    "name": "ipython",
    "version": 3
   },
   "file_extension": ".py",
   "mimetype": "text/x-python",
   "name": "python",
   "nbconvert_exporter": "python",
   "pygments_lexer": "ipython3",
   "version": "3.9.12"
  }
 },
 "nbformat": 4,
 "nbformat_minor": 5
}
